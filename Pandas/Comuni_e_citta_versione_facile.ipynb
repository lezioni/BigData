{
 "cells": [
  {
   "cell_type": "code",
   "execution_count": 73,
   "id": "1534011c-3cec-4d86-a073-17661d95bf0b",
   "metadata": {},
   "outputs": [],
   "source": [
    "import pandas as pd\n",
    "import numpy as np\n",
    "import matplotlib.pyplot as plt"
   ]
  },
  {
   "cell_type": "markdown",
   "id": "28f23354-2924-43f2-b35a-31f3948ea580",
   "metadata": {},
   "source": [
    "# Analizzare i dati presenti nella tabella alla pagina \n",
    "\n",
    "https://www.comuniecitta.it/province-italiane"
   ]
  },
  {
   "cell_type": "markdown",
   "id": "fc643bee-f6be-4e83-a1ac-c737b389f1ed",
   "metadata": {},
   "source": [
    "### Mostrare gli abitanti di ciascuna regione ordinandoli per numero di abitanti in ordine decrescente"
   ]
  },
  {
   "cell_type": "markdown",
   "id": "4dae7be0-c70d-4d24-89ef-e0819148ad7c",
   "metadata": {},
   "source": [
    "Recupero i dati nella tabella della pagina indicata"
   ]
  },
  {
   "cell_type": "code",
   "execution_count": 74,
   "id": "4e90d174-2a22-48a3-b279-4be2b77bc362",
   "metadata": {},
   "outputs": [
    {
     "data": {
      "text/html": [
       "<div>\n",
       "<style scoped>\n",
       "    .dataframe tbody tr th:only-of-type {\n",
       "        vertical-align: middle;\n",
       "    }\n",
       "\n",
       "    .dataframe tbody tr th {\n",
       "        vertical-align: top;\n",
       "    }\n",
       "\n",
       "    .dataframe thead th {\n",
       "        text-align: right;\n",
       "    }\n",
       "</style>\n",
       "<table border=\"1\" class=\"dataframe\">\n",
       "  <thead>\n",
       "    <tr style=\"text-align: right;\">\n",
       "      <th></th>\n",
       "      <th>Provincia</th>\n",
       "      <th>Sigla</th>\n",
       "      <th>Popolazione</th>\n",
       "      <th>Regione</th>\n",
       "    </tr>\n",
       "  </thead>\n",
       "  <tbody>\n",
       "    <tr>\n",
       "      <th>0</th>\n",
       "      <td>Agrigento</td>\n",
       "      <td>AG</td>\n",
       "      <td>445.129</td>\n",
       "      <td>Sicilia</td>\n",
       "    </tr>\n",
       "    <tr>\n",
       "      <th>1</th>\n",
       "      <td>Alessandria</td>\n",
       "      <td>AL</td>\n",
       "      <td>428.826</td>\n",
       "      <td>Piemonte</td>\n",
       "    </tr>\n",
       "    <tr>\n",
       "      <th>2</th>\n",
       "      <td>Ancona</td>\n",
       "      <td>AN</td>\n",
       "      <td>476.192</td>\n",
       "      <td>Marche</td>\n",
       "    </tr>\n",
       "    <tr>\n",
       "      <th>3</th>\n",
       "      <td>Arezzo</td>\n",
       "      <td>AR</td>\n",
       "      <td>345.110</td>\n",
       "      <td>Toscana</td>\n",
       "    </tr>\n",
       "    <tr>\n",
       "      <th>4</th>\n",
       "      <td>Ascoli Piceno</td>\n",
       "      <td>AP</td>\n",
       "      <td>210.066</td>\n",
       "      <td>Marche</td>\n",
       "    </tr>\n",
       "  </tbody>\n",
       "</table>\n",
       "</div>"
      ],
      "text/plain": [
       "       Provincia Sigla Popolazione   Regione\n",
       "0      Agrigento    AG     445.129   Sicilia\n",
       "1    Alessandria    AL     428.826  Piemonte\n",
       "2         Ancona    AN     476.192    Marche\n",
       "3         Arezzo    AR     345.110   Toscana\n",
       "4  Ascoli Piceno    AP     210.066    Marche"
      ]
     },
     "execution_count": 74,
     "metadata": {},
     "output_type": "execute_result"
    }
   ],
   "source": [
    "url_popolazione = \"https://www.comuniecitta.it/province-italiane\"\n",
    "\n",
    "p = pd.read_html(url_popolazione)[0]\n",
    "p.head(5)"
   ]
  },
  {
   "cell_type": "markdown",
   "id": "74da3b7a-6dd6-4344-8c9a-958288cd3627",
   "metadata": {},
   "source": [
    "Per effettuare il calcolo richiesto occorre **raggruppare i dati per \"Regione\"** e quindi **sommare i valori presenti nella colonna \"Popolazione\"**.\n",
    "\n",
    "Per poter sommare i valori è necessario che questi siano di tipo numerico.\n",
    "\n",
    "Verifichiamo quindi per prima cosa i tipi di dato presenti nella tabella."
   ]
  },
  {
   "cell_type": "code",
   "execution_count": 75,
   "id": "8d229eab-e1a4-4d56-833d-53170354c734",
   "metadata": {},
   "outputs": [
    {
     "data": {
      "text/plain": [
       "Provincia      object\n",
       "Sigla          object\n",
       "Popolazione    object\n",
       "Regione        object\n",
       "dtype: object"
      ]
     },
     "execution_count": 75,
     "metadata": {},
     "output_type": "execute_result"
    }
   ],
   "source": [
    "p.dtypes"
   ]
  },
  {
   "cell_type": "markdown",
   "id": "bd913ecd-519d-40e2-8582-8ed86feb0b0d",
   "metadata": {},
   "source": [
    "Vediamo che la colonna \"Popolazione\" è di tipo \"object\", occorre quindi a trasformarla in intero. Possiamo usare la funzione `to_numeric`"
   ]
  },
  {
   "cell_type": "code",
   "execution_count": 76,
   "id": "fe365bef-952d-443f-98de-d3ad21d54e10",
   "metadata": {},
   "outputs": [],
   "source": [
    "# Provate ad applicare la funzione somma senza convertire l'oggetto in intero, cosa succede?\n",
    "# p['Popolazione'].sum()"
   ]
  },
  {
   "cell_type": "code",
   "execution_count": 77,
   "id": "93d4ef9f-5c54-42e0-8dd6-c5c42a1a155e",
   "metadata": {},
   "outputs": [
    {
     "ename": "ValueError",
     "evalue": "Unable to parse string \"1.263.820\" at position 7",
     "output_type": "error",
     "traceback": [
      "\u001b[0;31m---------------------------------------------------------------------------\u001b[0m",
      "\u001b[0;31mValueError\u001b[0m                                Traceback (most recent call last)",
      "File \u001b[0;32m~/dev/pyts/lib/python3.8/site-packages/pandas/_libs/lib.pyx:2280\u001b[0m, in \u001b[0;36mpandas._libs.lib.maybe_convert_numeric\u001b[0;34m()\u001b[0m\n",
      "\u001b[0;31mValueError\u001b[0m: Unable to parse string \"1.263.820\"",
      "\nDuring handling of the above exception, another exception occurred:\n",
      "\u001b[0;31mValueError\u001b[0m                                Traceback (most recent call last)",
      "Cell \u001b[0;32mIn[77], line 1\u001b[0m\n\u001b[0;32m----> 1\u001b[0m p[\u001b[38;5;124m'\u001b[39m\u001b[38;5;124mPopolazione\u001b[39m\u001b[38;5;124m'\u001b[39m] \u001b[38;5;241m=\u001b[39m \u001b[43mpd\u001b[49m\u001b[38;5;241;43m.\u001b[39;49m\u001b[43mto_numeric\u001b[49m\u001b[43m(\u001b[49m\u001b[43mp\u001b[49m\u001b[43m[\u001b[49m\u001b[38;5;124;43m'\u001b[39;49m\u001b[38;5;124;43mPopolazione\u001b[39;49m\u001b[38;5;124;43m'\u001b[39;49m\u001b[43m]\u001b[49m\u001b[43m)\u001b[49m\n",
      "File \u001b[0;32m~/dev/pyts/lib/python3.8/site-packages/pandas/core/tools/numeric.py:217\u001b[0m, in \u001b[0;36mto_numeric\u001b[0;34m(arg, errors, downcast, dtype_backend)\u001b[0m\n\u001b[1;32m    215\u001b[0m coerce_numeric \u001b[38;5;241m=\u001b[39m errors \u001b[38;5;129;01mnot\u001b[39;00m \u001b[38;5;129;01min\u001b[39;00m (\u001b[38;5;124m\"\u001b[39m\u001b[38;5;124mignore\u001b[39m\u001b[38;5;124m\"\u001b[39m, \u001b[38;5;124m\"\u001b[39m\u001b[38;5;124mraise\u001b[39m\u001b[38;5;124m\"\u001b[39m)\n\u001b[1;32m    216\u001b[0m \u001b[38;5;28;01mtry\u001b[39;00m:\n\u001b[0;32m--> 217\u001b[0m     values, new_mask \u001b[38;5;241m=\u001b[39m \u001b[43mlib\u001b[49m\u001b[38;5;241;43m.\u001b[39;49m\u001b[43mmaybe_convert_numeric\u001b[49m\u001b[43m(\u001b[49m\u001b[43m  \u001b[49m\u001b[38;5;66;43;03m# type: ignore[call-overload]  # noqa\u001b[39;49;00m\n\u001b[1;32m    218\u001b[0m \u001b[43m        \u001b[49m\u001b[43mvalues\u001b[49m\u001b[43m,\u001b[49m\n\u001b[1;32m    219\u001b[0m \u001b[43m        \u001b[49m\u001b[38;5;28;43mset\u001b[39;49m\u001b[43m(\u001b[49m\u001b[43m)\u001b[49m\u001b[43m,\u001b[49m\n\u001b[1;32m    220\u001b[0m \u001b[43m        \u001b[49m\u001b[43mcoerce_numeric\u001b[49m\u001b[38;5;241;43m=\u001b[39;49m\u001b[43mcoerce_numeric\u001b[49m\u001b[43m,\u001b[49m\n\u001b[1;32m    221\u001b[0m \u001b[43m        \u001b[49m\u001b[43mconvert_to_masked_nullable\u001b[49m\u001b[38;5;241;43m=\u001b[39;49m\u001b[43mdtype_backend\u001b[49m\u001b[43m \u001b[49m\u001b[38;5;129;43;01mis\u001b[39;49;00m\u001b[43m \u001b[49m\u001b[38;5;129;43;01mnot\u001b[39;49;00m\u001b[43m \u001b[49m\u001b[43mlib\u001b[49m\u001b[38;5;241;43m.\u001b[39;49m\u001b[43mno_default\u001b[49m\n\u001b[1;32m    222\u001b[0m \u001b[43m        \u001b[49m\u001b[38;5;129;43;01mor\u001b[39;49;00m\u001b[43m \u001b[49m\u001b[38;5;28;43misinstance\u001b[39;49m\u001b[43m(\u001b[49m\u001b[43mvalues_dtype\u001b[49m\u001b[43m,\u001b[49m\u001b[43m \u001b[49m\u001b[43mStringDtype\u001b[49m\u001b[43m)\u001b[49m\u001b[43m,\u001b[49m\n\u001b[1;32m    223\u001b[0m \u001b[43m    \u001b[49m\u001b[43m)\u001b[49m\n\u001b[1;32m    224\u001b[0m \u001b[38;5;28;01mexcept\u001b[39;00m (\u001b[38;5;167;01mValueError\u001b[39;00m, \u001b[38;5;167;01mTypeError\u001b[39;00m):\n\u001b[1;32m    225\u001b[0m     \u001b[38;5;28;01mif\u001b[39;00m errors \u001b[38;5;241m==\u001b[39m \u001b[38;5;124m\"\u001b[39m\u001b[38;5;124mraise\u001b[39m\u001b[38;5;124m\"\u001b[39m:\n",
      "File \u001b[0;32m~/dev/pyts/lib/python3.8/site-packages/pandas/_libs/lib.pyx:2322\u001b[0m, in \u001b[0;36mpandas._libs.lib.maybe_convert_numeric\u001b[0;34m()\u001b[0m\n",
      "\u001b[0;31mValueError\u001b[0m: Unable to parse string \"1.263.820\" at position 7"
     ]
    }
   ],
   "source": [
    "p['Popolazione'] = pd.to_numeric(p['Popolazione'])"
   ]
  },
  {
   "cell_type": "markdown",
   "id": "1bc7391b-e8bf-4c32-9b58-2683b1f2a2da",
   "metadata": {},
   "source": [
    "Non funziona perchè non riesce ad interpretare correttamente il punto che è stato usato come separatore delle migliaia.\n",
    "\n",
    "Dobbiamo quindi ad eliminare il punto prima di applicare la funzione."
   ]
  },
  {
   "cell_type": "code",
   "execution_count": 78,
   "id": "939f6332-964d-407b-a3c3-de95eac9302d",
   "metadata": {},
   "outputs": [
    {
     "data": {
      "text/plain": [
       "Provincia      object\n",
       "Sigla          object\n",
       "Popolazione     int64\n",
       "Regione        object\n",
       "dtype: object"
      ]
     },
     "execution_count": 78,
     "metadata": {},
     "output_type": "execute_result"
    }
   ],
   "source": [
    "p['Popolazione'] = pd.to_numeric(p['Popolazione'].str.replace('.',''))\n",
    "\n",
    "p.dtypes"
   ]
  },
  {
   "cell_type": "markdown",
   "id": "88f333b6-ff2e-4e4e-8b61-99fd565d2c24",
   "metadata": {},
   "source": [
    "Adesso che la colonna è di tipo intero possiamo applicare le funzioni di **group** by sulla colonna **\"Regione\"** e di **somma** sulla colonna **\"Popolazione\"**\n",
    "\n",
    "Ci sono diversi modi per farlo."
   ]
  },
  {
   "cell_type": "code",
   "execution_count": 79,
   "id": "e0a3f9c3-71bd-4078-94e7-4568aa2aaeff",
   "metadata": {},
   "outputs": [
    {
     "data": {
      "text/plain": [
       "Regione\n",
       "Lombardia                10008349\n",
       "Lazio                     5888472\n",
       "Campania                  5850850\n",
       "Sicilia                   5074261\n",
       "Veneto                    4915123\n",
       "Emilia Romagna            4448146\n",
       "Piemonte                  4404246\n",
       "Puglia                    4077166\n",
       "Toscana                   3744398\n",
       "Calabria                  1970521\n",
       "Sardegna                  1658138\n",
       "Liguria                   1571053\n",
       "Marche                    1543752\n",
       "Abruzzo                   1326513\n",
       "Friuli Venezia Giulia     1221218\n",
       "Trentino-Alto Adige       1059114\n",
       "Umbria                     891181\n",
       "Basilicata                 573694\n",
       "Molise                     312027\n",
       "Valle d'Aosta              127329\n",
       "Name: Popolazione, dtype: int64"
      ]
     },
     "execution_count": 79,
     "metadata": {},
     "output_type": "execute_result"
    }
   ],
   "source": [
    "# \"Estraggo\" dal dataframe raggruppato una sola colonna quindi sto lavorando su una serie\n",
    "# https://pandas.pydata.org/docs/reference/api/pandas.Series.sort_values.html\n",
    "\n",
    "p.groupby(['Regione'])['Popolazione'].sum().sort_values(ascending=False)"
   ]
  },
  {
   "cell_type": "markdown",
   "id": "dfb0eedd-23cd-4ec7-8622-559de5cccc0a",
   "metadata": {},
   "source": [
    "Vediamo i vari tipi di dato utilizzati nei vari passaggi"
   ]
  },
  {
   "cell_type": "code",
   "execution_count": 80,
   "id": "1b63f9b0-0db5-4b03-bcac-9a205a964d82",
   "metadata": {},
   "outputs": [
    {
     "name": "stdout",
     "output_type": "stream",
     "text": [
      "\"p\" è di tipo <class 'pandas.core.frame.DataFrame'>\n",
      "\n",
      "\"x\" è di tipo <class 'pandas.core.groupby.generic.DataFrameGroupBy'>\n",
      "\n",
      "\"y\" è di tipo <class 'pandas.core.groupby.generic.SeriesGroupBy'>\n",
      "\n",
      "\"z\" è di tipo <class 'pandas.core.series.Series'>\n"
     ]
    }
   ],
   "source": [
    "print('\"p\" è di tipo ' + str(type(p)))\n",
    "\n",
    "print()\n",
    "x = p.groupby(['Regione'])\n",
    "print('\"x\" è di tipo ' + str(type(x)))\n",
    "\n",
    "print()\n",
    "y = x['Popolazione']\n",
    "print('\"y\" è di tipo ' + str(type(y)))\n",
    "\n",
    "print()\n",
    "z = y.sum()\n",
    "print('\"z\" è di tipo ' + str(type(z)))"
   ]
  },
  {
   "cell_type": "markdown",
   "id": "29d70ed5-5cb7-49c2-8edb-9cb2dd147084",
   "metadata": {},
   "source": [
    "In alternativa si potrebbe applicare la funziona somma all'intero dataframe, specificando di utilizzare le sole colonne di tipo numerico."
   ]
  },
  {
   "cell_type": "code",
   "execution_count": 81,
   "id": "121bfeb4-35f0-4f21-beab-c101142f0735",
   "metadata": {},
   "outputs": [
    {
     "data": {
      "text/html": [
       "<div>\n",
       "<style scoped>\n",
       "    .dataframe tbody tr th:only-of-type {\n",
       "        vertical-align: middle;\n",
       "    }\n",
       "\n",
       "    .dataframe tbody tr th {\n",
       "        vertical-align: top;\n",
       "    }\n",
       "\n",
       "    .dataframe thead th {\n",
       "        text-align: right;\n",
       "    }\n",
       "</style>\n",
       "<table border=\"1\" class=\"dataframe\">\n",
       "  <thead>\n",
       "    <tr style=\"text-align: right;\">\n",
       "      <th></th>\n",
       "      <th>Popolazione</th>\n",
       "    </tr>\n",
       "    <tr>\n",
       "      <th>Regione</th>\n",
       "      <th></th>\n",
       "    </tr>\n",
       "  </thead>\n",
       "  <tbody>\n",
       "    <tr>\n",
       "      <th>Lombardia</th>\n",
       "      <td>10008349</td>\n",
       "    </tr>\n",
       "    <tr>\n",
       "      <th>Lazio</th>\n",
       "      <td>5888472</td>\n",
       "    </tr>\n",
       "    <tr>\n",
       "      <th>Campania</th>\n",
       "      <td>5850850</td>\n",
       "    </tr>\n",
       "    <tr>\n",
       "      <th>Sicilia</th>\n",
       "      <td>5074261</td>\n",
       "    </tr>\n",
       "    <tr>\n",
       "      <th>Veneto</th>\n",
       "      <td>4915123</td>\n",
       "    </tr>\n",
       "    <tr>\n",
       "      <th>Emilia Romagna</th>\n",
       "      <td>4448146</td>\n",
       "    </tr>\n",
       "    <tr>\n",
       "      <th>Piemonte</th>\n",
       "      <td>4404246</td>\n",
       "    </tr>\n",
       "    <tr>\n",
       "      <th>Puglia</th>\n",
       "      <td>4077166</td>\n",
       "    </tr>\n",
       "    <tr>\n",
       "      <th>Toscana</th>\n",
       "      <td>3744398</td>\n",
       "    </tr>\n",
       "    <tr>\n",
       "      <th>Calabria</th>\n",
       "      <td>1970521</td>\n",
       "    </tr>\n",
       "    <tr>\n",
       "      <th>Sardegna</th>\n",
       "      <td>1658138</td>\n",
       "    </tr>\n",
       "    <tr>\n",
       "      <th>Liguria</th>\n",
       "      <td>1571053</td>\n",
       "    </tr>\n",
       "    <tr>\n",
       "      <th>Marche</th>\n",
       "      <td>1543752</td>\n",
       "    </tr>\n",
       "    <tr>\n",
       "      <th>Abruzzo</th>\n",
       "      <td>1326513</td>\n",
       "    </tr>\n",
       "    <tr>\n",
       "      <th>Friuli Venezia Giulia</th>\n",
       "      <td>1221218</td>\n",
       "    </tr>\n",
       "    <tr>\n",
       "      <th>Trentino-Alto Adige</th>\n",
       "      <td>1059114</td>\n",
       "    </tr>\n",
       "    <tr>\n",
       "      <th>Umbria</th>\n",
       "      <td>891181</td>\n",
       "    </tr>\n",
       "    <tr>\n",
       "      <th>Basilicata</th>\n",
       "      <td>573694</td>\n",
       "    </tr>\n",
       "    <tr>\n",
       "      <th>Molise</th>\n",
       "      <td>312027</td>\n",
       "    </tr>\n",
       "    <tr>\n",
       "      <th>Valle d'Aosta</th>\n",
       "      <td>127329</td>\n",
       "    </tr>\n",
       "  </tbody>\n",
       "</table>\n",
       "</div>"
      ],
      "text/plain": [
       "                       Popolazione\n",
       "Regione                           \n",
       "Lombardia                 10008349\n",
       "Lazio                      5888472\n",
       "Campania                   5850850\n",
       "Sicilia                    5074261\n",
       "Veneto                     4915123\n",
       "Emilia Romagna             4448146\n",
       "Piemonte                   4404246\n",
       "Puglia                     4077166\n",
       "Toscana                    3744398\n",
       "Calabria                   1970521\n",
       "Sardegna                   1658138\n",
       "Liguria                    1571053\n",
       "Marche                     1543752\n",
       "Abruzzo                    1326513\n",
       "Friuli Venezia Giulia      1221218\n",
       "Trentino-Alto Adige        1059114\n",
       "Umbria                      891181\n",
       "Basilicata                  573694\n",
       "Molise                      312027\n",
       "Valle d'Aosta               127329"
      ]
     },
     "execution_count": 81,
     "metadata": {},
     "output_type": "execute_result"
    }
   ],
   "source": [
    "# Nota che questo sommerebbe TUTTE le colonne\n",
    "# p.groupby(['Regione']).sum()\n",
    "\n",
    "p.groupby(['Regione']).sum(numeric_only=True).sort_values(['Popolazione'], ascending=False)\n",
    "# in questo caso stiamo lavorando su un dataframe\n",
    "# https://pandas.pydata.org/docs/reference/api/pandas.DataFrame.sort_values.html"
   ]
  },
  {
   "cell_type": "code",
   "execution_count": 82,
   "id": "31d56f87-bb6d-44bb-a719-391a93b5c212",
   "metadata": {},
   "outputs": [
    {
     "data": {
      "text/plain": [
       "pandas.core.frame.DataFrame"
      ]
     },
     "execution_count": 82,
     "metadata": {},
     "output_type": "execute_result"
    }
   ],
   "source": [
    "type(p.groupby(['Regione']).sum(numeric_only=True))"
   ]
  },
  {
   "cell_type": "code",
   "execution_count": null,
   "id": "0837f6e5-1bef-4818-8d45-1e01c2e4a3b4",
   "metadata": {},
   "outputs": [],
   "source": []
  }
 ],
 "metadata": {
  "kernelspec": {
   "display_name": "Python 3 (ipykernel)",
   "language": "python",
   "name": "python3"
  },
  "language_info": {
   "codemirror_mode": {
    "name": "ipython",
    "version": 3
   },
   "file_extension": ".py",
   "mimetype": "text/x-python",
   "name": "python",
   "nbconvert_exporter": "python",
   "pygments_lexer": "ipython3",
   "version": "3.8.10"
  }
 },
 "nbformat": 4,
 "nbformat_minor": 5
}
