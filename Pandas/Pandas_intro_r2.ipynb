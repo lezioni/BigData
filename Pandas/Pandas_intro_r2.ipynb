{
 "cells": [
  {
   "cell_type": "markdown",
   "id": "44ddfed7",
   "metadata": {},
   "source": [
    "# Introduzione a Pandas e Numpy\n",
    "\n",
    "# Contenuti\n",
    " - [Numpy](#Numpy) \n",
    " - [Pandas](#Pandas)\n",
    "     - [Serie](#Series)\n",
    "     - [Dataframe](#DataFrames)\n",
    "\n",
    "- [Tabelle](#Tables)\n",
    "- [Grafici](#ChartVisualization)\n",
    "- [Importazione dati](#DataImport)\n",
    "    - [CSV](#CSV)\n",
    "    - [JSON](#JSON)\n",
    "    - [HTML](#HTML)\n",
    "    - [Excel](#Excel)\n",
    "\n",
    "# Numpy\n",
    "\n",
    "## Aggregati con Numpy\n",
    "\n",
    "Numpy è un modulo di Python **ottimizzato** per la manipolazione di **grandi quantità di dati**. Aggiunge supporto a grandi matrici e array multidimensionali insieme a una vasta collezione di funzioni matematiche di alto livello per poter operare efficientemente su queste strutture dati.\n",
    "\n",
    "Per approfondire https://numpy.org/"
   ]
  },
  {
   "cell_type": "markdown",
   "id": "87ebe73e",
   "metadata": {},
   "source": [
    "## Esempio di utilizzo di Numpy\n",
    "\n",
    "Di seguito un esempio di come si possa disegnare visualizzare l'andamento di una funzione utilizzando `numpy` e `matplotlib`"
   ]
  },
  {
   "cell_type": "code",
   "execution_count": 124,
   "id": "c3a771da",
   "metadata": {},
   "outputs": [
    {
     "data": {
      "image/png": "[encoded data removed]",
      "text/plain": [
       "<Figure size 432x288 with 1 Axes>"
      ]
     },
     "metadata": {
      "needs_background": "light"
     },
     "output_type": "display_data"
    }
   ],
   "source": [
    "import numpy as np\n",
    "import matplotlib.pyplot as plt\n",
    "# Genera 100 punti tra 0 e 6.28 equidistanti\n",
    "x = np.linspace(0, 2 * np.pi, 100)\n",
    "y = np.sin(x)\n",
    "plt.plot(x, y)\n",
    "plt.show()"
   ]
  },
  {
   "cell_type": "markdown",
   "id": "a95f0d6a",
   "metadata": {},
   "source": [
    "Possiamo utlizzare le due funzioni di Python `time` e `timeit` per valutare la differenza di performance tra l'implementazione di python e quella ottimizzata di Numpy.\n",
    "\n",
    "Creiamo una lista di un milione di interi e calcoliamone la somma con i due metodi `sum` nativo di python e `np.sum` di Numpy"
   ]
  },
  {
   "cell_type": "code",
   "execution_count": 125,
   "id": "6b30ceda",
   "metadata": {
    "scrolled": true
   },
   "outputs": [
    {
     "name": "stdout",
     "output_type": "stream",
     "text": [
      "Utilizzo sum\n",
      "CPU times: user 69.2 ms, sys: 35.9 ms, total: 105 ms\n",
      "Wall time: 54.2 ms\n",
      "\n",
      "Utilizzo np.sum\n",
      "CPU times: user 731 µs, sys: 503 µs, total: 1.23 ms\n",
      "Wall time: 750 µs\n"
     ]
    },
    {
     "data": {
      "text/plain": [
       "50037545211"
      ]
     },
     "execution_count": 125,
     "metadata": {},
     "output_type": "execute_result"
    }
   ],
   "source": [
    "interi_1M = np.random.randint(100000, size=1000000)\n",
    "\n",
    "print ('Utilizzo sum')\n",
    "%time sum(interi_1M)\n",
    "# %timeit sum(interi_1M)\n",
    "\n",
    "print()\n",
    "\n",
    "print ('Utilizzo np.sum')\n",
    "%time np.sum(interi_1M)\n",
    "# %timeit np.sum(interi_1M)"
   ]
  },
  {
   "cell_type": "code",
   "execution_count": null,
   "id": "a105c103",
   "metadata": {},
   "outputs": [],
   "source": []
  },
  {
   "cell_type": "code",
   "execution_count": 126,
   "id": "0b7e6621",
   "metadata": {},
   "outputs": [
    {
     "data": {
      "text/html": [
       "<style>\n",
       "table {float:left}\n",
       "</style>\n"
      ],
      "text/plain": [
       "<IPython.core.display.HTML object>"
      ]
     },
     "metadata": {},
     "output_type": "display_data"
    }
   ],
   "source": [
    "%%html\n",
    "<style>\n",
    "table {float:left}\n",
    "</style>"
   ]
  },
  {
   "cell_type": "markdown",
   "id": "c05bc2de",
   "metadata": {},
   "source": [
    "## Funzioni di aggregazione\n",
    "\n",
    "Di seguito un breve elenco di alcune delle funzioni disponibili in Numpy\n",
    "\n",
    "\n",
    " **Function Name**  | **NaN-safe Version**  | **Description**             \n",
    "--------------------|-----------------------|-----------------------------\n",
    " np.sum             | np.nansum             | Compute sum of elements     \n",
    " np.prod            | np.nanprod            | Compute product of elements \n",
    " np.mean            | np.nanmean            | Compute mean of elements    \n",
    " np.std             | np.nanstd             | Compute standard deviation  \n",
    " np.var             | np.nanvar             | Compute variance            \n",
    " np.min             | np.nanmin             | Find minimum value          \n",
    " np.max             | np.nanmax             | Find maximum value          \n",
    " np.argmin          | np.nanargmin          | Find index of minimum value \n",
    " np.argmax          | np.nanargmax          | Find index of maximum value "
   ]
  },
  {
   "cell_type": "markdown",
   "id": "26b4224f",
   "metadata": {},
   "source": [
    "# Pandas\n",
    "\n",
    "E' una libreria software per Pyton per la manipolazione e l'analisi dei dati\n",
    "\n",
    "Rilasciato sotto la licenza BSD\n",
    "\n",
    "Il nome deriva dal termine \"panel data\"\n",
    "\n",
    "Per una breve introduzione potete riferirvi a https://pandas.pydata.org/pandas-docs/stable/user_guide/10min.html\n",
    "\n",
    "\n",
    "\n",
    "## Series\n",
    "\n",
    "Sequenze 1-dimensionali di elementi omogenei\n",
    "\n",
    "Ogni elemento è associato ad un indice (non necessariamente numerico)\n",
    "\n",
    "Se l'indice non viene specificato ne viene creato uno automaticamente con un intero progressivo\n",
    "\n",
    "Una serie può essere facilmente creata a partire da una lista o da un dizionario\n",
    "\n",
    "Per approfondire: https://pandas.pydata.org/pandas-docs/stable/user_guide/dsintro.html"
   ]
  },
  {
   "cell_type": "code",
   "execution_count": 127,
   "id": "b78b7306",
   "metadata": {},
   "outputs": [],
   "source": [
    "import pandas as pd\n",
    "import matplotlib.pyplot as plt\n",
    "import numpy as np\n"
   ]
  },
  {
   "cell_type": "code",
   "execution_count": 128,
   "id": "89c9a988",
   "metadata": {},
   "outputs": [
    {
     "name": "stdout",
     "output_type": "stream",
     "text": [
      "0     2.8\n",
      "1    13.1\n",
      "2    14.2\n",
      "dtype: float64\n"
     ]
    }
   ],
   "source": [
    "# Serie senza indice esplicito creata a partire da una lista di float\n",
    "s1 = pd.Series([2.8, 13.1, 14.2])\n",
    "print(s1)"
   ]
  },
  {
   "cell_type": "code",
   "execution_count": 129,
   "id": "f5c21a8e",
   "metadata": {},
   "outputs": [
    {
     "data": {
      "text/plain": [
       "lunedì       12\n",
       "martedì      15\n",
       "mercoledì     9\n",
       "dtype: int64"
      ]
     },
     "execution_count": 129,
     "metadata": {},
     "output_type": "execute_result"
    }
   ],
   "source": [
    "# Serie di interi con un indice di stringhe esplicitamente creato\n",
    "pd.Series([12, 15, 9], index=['lunedì', 'martedì', 'mercoledì'])"
   ]
  },
  {
   "cell_type": "code",
   "execution_count": 130,
   "id": "d713b280",
   "metadata": {},
   "outputs": [
    {
     "data": {
      "text/plain": [
       "Mauro    27\n",
       "Luca     18\n",
       "Anna     42\n",
       "dtype: int64"
      ]
     },
     "execution_count": 130,
     "metadata": {},
     "output_type": "execute_result"
    }
   ],
   "source": [
    "# Serie creata a partire da un dizionario\n",
    "pd.Series({'Mauro':27, 'Luca':18, 'Anna':42})"
   ]
  },
  {
   "cell_type": "markdown",
   "id": "fe851374",
   "metadata": {},
   "source": [
    "Recupero di valori dalle serie\n",
    "\n",
    "Possiamo leggere i valori inseriti e l'indice"
   ]
  },
  {
   "cell_type": "code",
   "execution_count": 131,
   "id": "a207bb72",
   "metadata": {},
   "outputs": [
    {
     "name": "stdout",
     "output_type": "stream",
     "text": [
      "[12 15  9]\n",
      "Index(['lunedì', 'martedì', 'mercoledì'], dtype='object')\n"
     ]
    }
   ],
   "source": [
    "s = pd.Series([12, 15, 9], index=['lunedì', 'martedì', 'mercoledì'])\n",
    "\n",
    "# Stampa i valori\n",
    "print(s.values)\n",
    "\n",
    "# Stampa gli indici\n",
    "print(s.index)"
   ]
  },
  {
   "cell_type": "markdown",
   "id": "a876a16d",
   "metadata": {},
   "source": [
    "L'indice implicito (numerico) è sempre presente, anche quando ne viene definito uno esplicitamente\n",
    "\n",
    "Possiamo accedere ai singoli valori utilizzanto le due funzioni `loc` per gli indici espliciti e `iloc` per quelli impliciti\n",
    "\n",
    "Per approfondire https://pandas.pydata.org/pandas-docs/stable/user_guide/indexing.html"
   ]
  },
  {
   "cell_type": "code",
   "execution_count": 132,
   "id": "4a60a43f",
   "metadata": {},
   "outputs": [
    {
     "name": "stdout",
     "output_type": "stream",
     "text": [
      "15\n",
      "15\n"
     ]
    }
   ],
   "source": [
    "s = pd.Series([12, 15, 9, 7 ,35], index=['lunedì', 'martedì', 'mercoledì','giovedì','venerdì'])\n",
    "\n",
    "# Indice esplicito\n",
    "print(s.loc['martedì'])\n",
    "\n",
    "# Indice implicito\n",
    "print(s.iloc[1])"
   ]
  },
  {
   "cell_type": "code",
   "execution_count": 133,
   "id": "c3ca2360",
   "metadata": {},
   "outputs": [
    {
     "name": "stdout",
     "output_type": "stream",
     "text": [
      "martedì      15\n",
      "mercoledì     9\n",
      "giovedì       7\n",
      "dtype: int64\n"
     ]
    }
   ],
   "source": [
    "# Si possono anche leggere più elementi contigui\n",
    "print(s.loc['martedì':'giovedì']) # indice esplicito (elemento finale incluso)"
   ]
  },
  {
   "cell_type": "code",
   "execution_count": 134,
   "id": "469e75db",
   "metadata": {},
   "outputs": [
    {
     "name": "stdout",
     "output_type": "stream",
     "text": [
      "martedì      15\n",
      "mercoledì     9\n",
      "dtype: int64\n"
     ]
    }
   ],
   "source": [
    "print(s.iloc[1:3]) # # indice implicito (elemento finale escluso)"
   ]
  },
  {
   "cell_type": "markdown",
   "id": "9b345752",
   "metadata": {},
   "source": [
    "# DataFrames\n",
    "\n",
    "Sono delle tabelle in cui le colonne sono delle serie che condividono lo stesso indice\n",
    "\n",
    "Possono essere creati a partire da un dizionario, da una lista di dizionari, da un array bidimensionale e molto altro"
   ]
  },
  {
   "cell_type": "code",
   "execution_count": 135,
   "id": "895a70f0",
   "metadata": {},
   "outputs": [
    {
     "name": "stdout",
     "output_type": "stream",
     "text": [
      "       Anni  Altezza  Peso\n",
      "Mauro    35      178    70\n",
      "Luca     42      152    65\n",
      "Anna     29      180    75\n"
     ]
    }
   ],
   "source": [
    "anni = pd.Series([35, 42, 29], index=['Mauro', 'Luca', 'Anna'])\n",
    "altezza = pd.Series([178, 152, 180], index=['Mauro', 'Luca', 'Anna'])\n",
    "peso = pd.Series([70, 65, 75], index=['Mauro', 'Luca', 'Anna'])\n",
    "dati_persone = pd.DataFrame({'Anni':anni, 'Altezza':altezza,'Peso':peso})\n",
    "print(dati_persone)"
   ]
  },
  {
   "cell_type": "code",
   "execution_count": 136,
   "id": "5b818173",
   "metadata": {},
   "outputs": [
    {
     "name": "stdout",
     "output_type": "stream",
     "text": [
      "   Anni  Altezza  Peso\n",
      "0    35      178    70\n",
      "1    42      152    65\n",
      "2    29      180    75\n"
     ]
    }
   ],
   "source": [
    "# Senza indice esplicito ...\n",
    "anni = pd.Series([35, 42, 29])\n",
    "altezza = pd.Series([178, 152, 180])\n",
    "peso = pd.Series([70, 65, 75])\n",
    "df = pd.DataFrame({'Anni':anni, 'Altezza':altezza,'Peso':peso})\n",
    "print(df)"
   ]
  },
  {
   "cell_type": "markdown",
   "id": "ac043cc3",
   "metadata": {},
   "source": [
    "Si possono anche creare serie con indici non omogenei, i valori mancanti vengono marcati come NaN. Questo può risultare molto comodo in caso si vogliano riconciliare archivi disomogenei."
   ]
  },
  {
   "cell_type": "code",
   "execution_count": 137,
   "id": "0061d03d",
   "metadata": {},
   "outputs": [
    {
     "name": "stdout",
     "output_type": "stream",
     "text": [
      "         Anni  Altezza  Peso\n",
      "Anna     29.0    152.0  48.0\n",
      "Luca     42.0    178.0   NaN\n",
      "Mauro    35.0    180.0   NaN\n",
      "Romeo     NaN      NaN  70.0\n",
      "Stefano   NaN      NaN  75.0\n",
      "Tiziana   NaN      NaN  65.0\n"
     ]
    }
   ],
   "source": [
    "anni = pd.Series([35, 42, 29], index=['Mauro', 'Luca', 'Anna'])\n",
    "altezze = pd.Series([178, 152, 180], index=['Luca', 'Anna', 'Mauro'])\n",
    "pesi = pd.Series([70, 65, 75, 48], index=['Romeo', 'Tiziana', 'Stefano', 'Anna'])\n",
    "dati_persone_sparsi = pd.DataFrame({'Anni':anni, 'Altezza':altezze,'Peso':pesi})\n",
    "print(dati_persone_sparsi)"
   ]
  },
  {
   "cell_type": "markdown",
   "id": "9026e4c9",
   "metadata": {},
   "source": [
    "Altri metodi molto più comodi per la creazione dei DataFrames sono la creazione di dataframe a partire da files\n",
    "\n",
    "La lista completa la trovate su https://pandas.pydata.org/pandas-docs/stable/user_guide/io.html"
   ]
  },
  {
   "cell_type": "markdown",
   "id": "54f735ce",
   "metadata": {},
   "source": [
    "# Missing values\n",
    "\n",
    "Pandas offre molte funzioni per la **bonifica dei dati** sono utilissime in caso di importazione di dati \"sporchi\" o incompleti\n",
    "\n",
    "- isnull()\n",
    "- notnull()\n",
    "- dropna()\n",
    "- fillna()\n",
    "\n",
    "Si possono eliminare i dati nulli, sostituire con un valore di default, con il valore precedente, con il successivo o con un valore calcolato.\n",
    "\n",
    "Si possono eliminare intere colonne o righe con valori non accettabili.\n",
    "\n",
    "Per approfondire: https://pandas.pydata.org/pandas-docs/stable/user_guide/missing_data.html"
   ]
  },
  {
   "cell_type": "markdown",
   "id": "1ffe3328",
   "metadata": {},
   "source": [
    "# Tables\n",
    "\n",
    "Si può anche personalizzare la visualizzazione dei dati tabellari con i fogli di stile.\n",
    "\n",
    "Per approfondire: https://pandas.pydata.org/pandas-docs/stable/user_guide/style.html"
   ]
  },
  {
   "cell_type": "code",
   "execution_count": 138,
   "id": "f78c7a1a",
   "metadata": {},
   "outputs": [
    {
     "data": {
      "text/html": [
       "<div>\n",
       "<style scoped>\n",
       "    .dataframe tbody tr th:only-of-type {\n",
       "        vertical-align: middle;\n",
       "    }\n",
       "\n",
       "    .dataframe tbody tr th {\n",
       "        vertical-align: top;\n",
       "    }\n",
       "\n",
       "    .dataframe thead th {\n",
       "        text-align: right;\n",
       "    }\n",
       "</style>\n",
       "<table border=\"1\" class=\"dataframe\">\n",
       "  <thead>\n",
       "    <tr style=\"text-align: right;\">\n",
       "      <th></th>\n",
       "      <th>Anni</th>\n",
       "      <th>Altezza</th>\n",
       "      <th>Peso</th>\n",
       "    </tr>\n",
       "  </thead>\n",
       "  <tbody>\n",
       "    <tr>\n",
       "      <th>Mauro</th>\n",
       "      <td>35</td>\n",
       "      <td>178</td>\n",
       "      <td>70</td>\n",
       "    </tr>\n",
       "    <tr>\n",
       "      <th>Luca</th>\n",
       "      <td>42</td>\n",
       "      <td>152</td>\n",
       "      <td>65</td>\n",
       "    </tr>\n",
       "    <tr>\n",
       "      <th>Anna</th>\n",
       "      <td>29</td>\n",
       "      <td>180</td>\n",
       "      <td>75</td>\n",
       "    </tr>\n",
       "  </tbody>\n",
       "</table>\n",
       "</div>"
      ],
      "text/plain": [
       "       Anni  Altezza  Peso\n",
       "Mauro    35      178    70\n",
       "Luca     42      152    65\n",
       "Anna     29      180    75"
      ]
     },
     "execution_count": 138,
     "metadata": {},
     "output_type": "execute_result"
    }
   ],
   "source": [
    "dati_persone"
   ]
  },
  {
   "cell_type": "code",
   "execution_count": 139,
   "id": "25076b70",
   "metadata": {},
   "outputs": [
    {
     "data": {
      "text/html": [
       "<style type=\"text/css\">\n",
       "#T_3d53d  {\n",
       "  border-collapse: separate;\n",
       "}\n",
       "#T_3d53d caption {\n",
       "  caption-side: bottom;\n",
       "  font-size: 1.3em;\n",
       "  text-align: center;\n",
       "}\n",
       "#T_3d53d .index_name {\n",
       "  font-style: italic;\n",
       "  color: darkgrey;\n",
       "  font-weight: normal;\n",
       "}\n",
       "#T_3d53d th:not(.index_name) {\n",
       "  background-color: #c2f0c2;\n",
       "  color: black;\n",
       "}\n",
       "#T_3d53d th.col_heading {\n",
       "  text-align: center;\n",
       "}\n",
       "#T_3d53d th.col_heading.level0 {\n",
       "  font-size: 1.5em;\n",
       "}\n",
       "#T_3d53d td {\n",
       "  text-align: center;\n",
       "  font-weight: bold;\n",
       "}\n",
       "#T_3d53d .true {\n",
       "  background-color: #00000;\n",
       "}\n",
       "#T_3d53d .false {\n",
       "  background-color: #ffffcc;\n",
       "}\n",
       "#T_3d53d td:hover {\n",
       "  background-color: #ffcc80;\n",
       "}\n",
       "#T_3d53d .pd-tt {\n",
       "  visibility: hidden;\n",
       "  position: absolute;\n",
       "  z-index: 1;\n",
       "  border: 1px solid #000066;\n",
       "  background-color: white;\n",
       "  color: #000066;\n",
       "  font-size: 0.8em;\n",
       "  transform: translate(0px, -24px);\n",
       "  padding: 0.6em;\n",
       "  border-radius: 0.5em;\n",
       "}\n",
       "#T_3d53d #T_3d53d_row0_col0:hover .pd-tt {\n",
       "  visibility: visible;\n",
       "}\n",
       "#T_3d53d #T_3d53d_row0_col0 .pd-tt::after {\n",
       "  content: \"Tooltip1\";\n",
       "}\n",
       "#T_3d53d #T_3d53d_row0_col1:hover .pd-tt {\n",
       "  visibility: visible;\n",
       "}\n",
       "#T_3d53d #T_3d53d_row0_col1 .pd-tt::after {\n",
       "  content: \"Tooltip2\";\n",
       "}\n",
       "#T_3d53d #T_3d53d_row0_col2:hover .pd-tt {\n",
       "  visibility: visible;\n",
       "}\n",
       "#T_3d53d #T_3d53d_row0_col2 .pd-tt::after {\n",
       "  content: \"Tooltip3\";\n",
       "}\n",
       "#T_3d53d #T_3d53d_row1_col0:hover .pd-tt {\n",
       "  visibility: visible;\n",
       "}\n",
       "#T_3d53d #T_3d53d_row1_col0 .pd-tt::after {\n",
       "  content: \"1\";\n",
       "}\n",
       "#T_3d53d #T_3d53d_row1_col1:hover .pd-tt {\n",
       "  visibility: visible;\n",
       "}\n",
       "#T_3d53d #T_3d53d_row1_col1 .pd-tt::after {\n",
       "  content: \"2\";\n",
       "}\n",
       "#T_3d53d #T_3d53d_row1_col2:hover .pd-tt {\n",
       "  visibility: visible;\n",
       "}\n",
       "#T_3d53d #T_3d53d_row1_col2 .pd-tt::after {\n",
       "  content: \"3\";\n",
       "}\n",
       "#T_3d53d #T_3d53d_row2_col0:hover .pd-tt {\n",
       "  visibility: visible;\n",
       "}\n",
       "#T_3d53d #T_3d53d_row2_col0 .pd-tt::after {\n",
       "  content: \"4\";\n",
       "}\n",
       "#T_3d53d #T_3d53d_row2_col1:hover .pd-tt {\n",
       "  visibility: visible;\n",
       "}\n",
       "#T_3d53d #T_3d53d_row2_col1 .pd-tt::after {\n",
       "  content: \"5\";\n",
       "}\n",
       "#T_3d53d #T_3d53d_row2_col2:hover .pd-tt {\n",
       "  visibility: visible;\n",
       "}\n",
       "#T_3d53d #T_3d53d_row2_col2 .pd-tt::after {\n",
       "  content: \"6\";\n",
       "}\n",
       "</style>\n",
       "<table id=\"T_3d53d\">\n",
       "  <caption>Raccolta dati persone</caption>\n",
       "  <thead>\n",
       "    <tr>\n",
       "      <th class=\"blank level0\" >&nbsp;</th>\n",
       "      <th id=\"T_3d53d_level0_col0\" class=\"col_heading level0 col0\" >Anni</th>\n",
       "      <th id=\"T_3d53d_level0_col1\" class=\"col_heading level0 col1\" >Altezza</th>\n",
       "      <th id=\"T_3d53d_level0_col2\" class=\"col_heading level0 col2\" >Peso</th>\n",
       "    </tr>\n",
       "  </thead>\n",
       "  <tbody>\n",
       "    <tr>\n",
       "      <th id=\"T_3d53d_level0_row0\" class=\"row_heading level0 row0\" >Mauro</th>\n",
       "      <td id=\"T_3d53d_row0_col0\" class=\"data row0 col0 true\" >35<span class=\"pd-tt\"></span></td>\n",
       "      <td id=\"T_3d53d_row0_col1\" class=\"data row0 col1 false\" >178<span class=\"pd-tt\"></span></td>\n",
       "      <td id=\"T_3d53d_row0_col2\" class=\"data row0 col2 true\" >70<span class=\"pd-tt\"></span></td>\n",
       "    </tr>\n",
       "    <tr>\n",
       "      <th id=\"T_3d53d_level0_row1\" class=\"row_heading level0 row1\" >Luca</th>\n",
       "      <td id=\"T_3d53d_row1_col0\" class=\"data row1 col0 true\" >42<span class=\"pd-tt\"></span></td>\n",
       "      <td id=\"T_3d53d_row1_col1\" class=\"data row1 col1 false\" >152<span class=\"pd-tt\"></span></td>\n",
       "      <td id=\"T_3d53d_row1_col2\" class=\"data row1 col2 true\" >65<span class=\"pd-tt\"></span></td>\n",
       "    </tr>\n",
       "    <tr>\n",
       "      <th id=\"T_3d53d_level0_row2\" class=\"row_heading level0 row2\" >Anna</th>\n",
       "      <td id=\"T_3d53d_row2_col0\" class=\"data row2 col0 true\" >29<span class=\"pd-tt\"></span></td>\n",
       "      <td id=\"T_3d53d_row2_col1\" class=\"data row2 col1 false\" >180<span class=\"pd-tt\"></span></td>\n",
       "      <td id=\"T_3d53d_row2_col2\" class=\"data row2 col2 true\" >75<span class=\"pd-tt\"></span></td>\n",
       "    </tr>\n",
       "  </tbody>\n",
       "</table>\n"
      ],
      "text/plain": [
       "<pandas.io.formats.style.Styler at 0x7fb84f8d3340>"
      ]
     },
     "execution_count": 139,
     "metadata": {},
     "output_type": "execute_result"
    }
   ],
   "source": [
    "s = dati_persone.style\\\n",
    "      .format('{:.0f}')\\\n",
    "      .set_table_styles([{\n",
    "        'selector': '',\n",
    "        'props':  'border-collapse: separate;'\n",
    "      },{\n",
    "        'selector': 'caption',\n",
    "        'props': 'caption-side: bottom; font-size:1.3em; text-align: center'\n",
    "      },{\n",
    "        'selector': '.index_name',\n",
    "        'props': 'font-style: italic; color: darkgrey; font-weight:normal;'\n",
    "      },{\n",
    "        'selector': 'th:not(.index_name)',\n",
    "        'props': 'background-color: #c2f0c2; color: black;'\n",
    "      },{\n",
    "        'selector': 'th.col_heading',\n",
    "        'props': 'text-align: center;'\n",
    "      },{\n",
    "        'selector': 'th.col_heading.level0',\n",
    "        'props': 'font-size: 1.5em;'\n",
    "      },{\n",
    "        'selector': 'td',\n",
    "        'props': 'text-align: center; font-weight:bold;'\n",
    "      },{\n",
    "        'selector': '.true',\n",
    "        'props': 'background-color: #00000;'\n",
    "      },{\n",
    "        'selector': '.false',\n",
    "        'props': 'background-color: #ffffcc;'\n",
    "      },{\n",
    "        'selector': 'td:hover',\n",
    "        'props': 'background-color: #ffcc80;'\n",
    "      }])\\\n",
    "      .set_td_classes(pd.DataFrame([['true', 'false', 'true']], \n",
    "                                    index=dati_persone.index, columns=dati_persone.columns))\\\n",
    "      .set_caption(\"Raccolta dati persone\")\\\n",
    "      .set_tooltips(pd.DataFrame([['Tooltip1', 'Tooltip2', 'Tooltip3'],['1','2','3'],['4','5','6']], \n",
    "                                    index=dati_persone.index, columns=dati_persone.columns),\n",
    "                   css_class='pd-tt', props=\n",
    "    'visibility: hidden; position: absolute; z-index: 1; border: 1px solid #000066;'\n",
    "    'background-color: white; color: #000066; font-size: 0.8em;' \n",
    "    'transform: translate(0px, -24px); padding: 0.6em; border-radius: 0.5em;')\n",
    "\n",
    "s"
   ]
  },
  {
   "cell_type": "markdown",
   "id": "aae9162a",
   "metadata": {},
   "source": [
    "# ChartVisualization\n",
    "\n",
    "Una volta terminata l'analisi dei dati è molto semplice produrre dei grafici riepilogativi.\n",
    "\n",
    "https://pandas.pydata.org/pandas-docs/stable/user_guide/visualization.html"
   ]
  },
  {
   "cell_type": "code",
   "execution_count": 140,
   "id": "57ea65f9",
   "metadata": {},
   "outputs": [
    {
     "data": {
      "image/png": "[encoded data removed]",
      "text/plain": [
       "<Figure size 432x288 with 1 Axes>"
      ]
     },
     "metadata": {
      "needs_background": "light"
     },
     "output_type": "display_data"
    }
   ],
   "source": [
    "df = pd.DataFrame(np.random.randn(100, 5), columns=list('ABCDE'))\n",
    "df=df.cumsum() # Return cumulative sum over a DataFrame or Series axis\n",
    "df.plot()\n",
    "plt.show()"
   ]
  },
  {
   "cell_type": "code",
   "execution_count": 141,
   "id": "72be8347",
   "metadata": {},
   "outputs": [
    {
     "data": {
      "image/png": "[encoded data removed]",
      "text/plain": [
       "<Figure size 432x288 with 1 Axes>"
      ]
     },
     "metadata": {
      "needs_background": "light"
     },
     "output_type": "display_data"
    }
   ],
   "source": [
    "df = pd.DataFrame(np.random.rand(10, 5), columns=list('ABCDE'))\n",
    "df.plot.bar(stacked=True)\n",
    "plt.show()"
   ]
  },
  {
   "cell_type": "code",
   "execution_count": 142,
   "id": "e9af5196",
   "metadata": {},
   "outputs": [
    {
     "data": {
      "image/png": "[encoded data removed]",
      "text/plain": [
       "<Figure size 432x288 with 1 Axes>"
      ]
     },
     "metadata": {
      "needs_background": "light"
     },
     "output_type": "display_data"
    }
   ],
   "source": [
    "df = pd.DataFrame(np.random.rand(7, 5), columns=list('ABCDE'))\n",
    "df.plot.box()\n",
    "plt.show()"
   ]
  },
  {
   "cell_type": "code",
   "execution_count": 143,
   "id": "11fcdd5d",
   "metadata": {},
   "outputs": [
    {
     "data": {
      "image/png": "[encoded data removed]",
      "text/plain": [
       "<Figure size 432x288 with 1 Axes>"
      ]
     },
     "metadata": {
      "needs_background": "light"
     },
     "output_type": "display_data"
    }
   ],
   "source": [
    "data = pd.Series(np.random.normal(size=100))\n",
    "data.hist(grid=False)\n",
    "plt.show()"
   ]
  },
  {
   "cell_type": "markdown",
   "id": "8c47ccd3",
   "metadata": {},
   "source": [
    "# DataImport\n",
    "\n",
    "Con Pandas è facile importare dati da diverse fonti."
   ]
  },
  {
   "cell_type": "markdown",
   "id": "a2842df2",
   "metadata": {},
   "source": [
    "## CSV\n"
   ]
  },
  {
   "cell_type": "code",
   "execution_count": 144,
   "id": "615c463c",
   "metadata": {},
   "outputs": [
    {
     "data": {
      "text/html": [
       "<div>\n",
       "<style scoped>\n",
       "    .dataframe tbody tr th:only-of-type {\n",
       "        vertical-align: middle;\n",
       "    }\n",
       "\n",
       "    .dataframe tbody tr th {\n",
       "        vertical-align: top;\n",
       "    }\n",
       "\n",
       "    .dataframe thead th {\n",
       "        text-align: right;\n",
       "    }\n",
       "</style>\n",
       "<table border=\"1\" class=\"dataframe\">\n",
       "  <thead>\n",
       "    <tr style=\"text-align: right;\">\n",
       "      <th></th>\n",
       "      <th>Html</th>\n",
       "      <th>Css</th>\n",
       "      <th>Php</th>\n",
       "      <th>C#</th>\n",
       "      <th>Sql</th>\n",
       "      <th>Js</th>\n",
       "    </tr>\n",
       "  </thead>\n",
       "  <tbody>\n",
       "    <tr>\n",
       "      <th>count</th>\n",
       "      <td>108.000000</td>\n",
       "      <td>108.000000</td>\n",
       "      <td>108.000000</td>\n",
       "      <td>108.000000</td>\n",
       "      <td>108.000000</td>\n",
       "      <td>108.000000</td>\n",
       "    </tr>\n",
       "    <tr>\n",
       "      <th>mean</th>\n",
       "      <td>4.861111</td>\n",
       "      <td>4.027778</td>\n",
       "      <td>3.740741</td>\n",
       "      <td>2.564815</td>\n",
       "      <td>4.157407</td>\n",
       "      <td>2.851852</td>\n",
       "    </tr>\n",
       "    <tr>\n",
       "      <th>std</th>\n",
       "      <td>3.009202</td>\n",
       "      <td>2.917746</td>\n",
       "      <td>3.049040</td>\n",
       "      <td>2.536733</td>\n",
       "      <td>3.072829</td>\n",
       "      <td>2.685422</td>\n",
       "    </tr>\n",
       "    <tr>\n",
       "      <th>min</th>\n",
       "      <td>0.000000</td>\n",
       "      <td>0.000000</td>\n",
       "      <td>0.000000</td>\n",
       "      <td>0.000000</td>\n",
       "      <td>0.000000</td>\n",
       "      <td>0.000000</td>\n",
       "    </tr>\n",
       "    <tr>\n",
       "      <th>25%</th>\n",
       "      <td>1.000000</td>\n",
       "      <td>1.000000</td>\n",
       "      <td>1.000000</td>\n",
       "      <td>1.000000</td>\n",
       "      <td>1.000000</td>\n",
       "      <td>0.000000</td>\n",
       "    </tr>\n",
       "    <tr>\n",
       "      <th>50%</th>\n",
       "      <td>6.000000</td>\n",
       "      <td>5.000000</td>\n",
       "      <td>5.000000</td>\n",
       "      <td>1.500000</td>\n",
       "      <td>5.000000</td>\n",
       "      <td>2.000000</td>\n",
       "    </tr>\n",
       "    <tr>\n",
       "      <th>75%</th>\n",
       "      <td>7.000000</td>\n",
       "      <td>7.000000</td>\n",
       "      <td>6.000000</td>\n",
       "      <td>4.000000</td>\n",
       "      <td>7.000000</td>\n",
       "      <td>6.000000</td>\n",
       "    </tr>\n",
       "    <tr>\n",
       "      <th>max</th>\n",
       "      <td>9.000000</td>\n",
       "      <td>8.000000</td>\n",
       "      <td>9.000000</td>\n",
       "      <td>9.000000</td>\n",
       "      <td>9.000000</td>\n",
       "      <td>9.000000</td>\n",
       "    </tr>\n",
       "  </tbody>\n",
       "</table>\n",
       "</div>"
      ],
      "text/plain": [
       "             Html         Css         Php          C#         Sql          Js\n",
       "count  108.000000  108.000000  108.000000  108.000000  108.000000  108.000000\n",
       "mean     4.861111    4.027778    3.740741    2.564815    4.157407    2.851852\n",
       "std      3.009202    2.917746    3.049040    2.536733    3.072829    2.685422\n",
       "min      0.000000    0.000000    0.000000    0.000000    0.000000    0.000000\n",
       "25%      1.000000    1.000000    1.000000    1.000000    1.000000    0.000000\n",
       "50%      6.000000    5.000000    5.000000    1.500000    5.000000    2.000000\n",
       "75%      7.000000    7.000000    6.000000    4.000000    7.000000    6.000000\n",
       "max      9.000000    8.000000    9.000000    9.000000    9.000000    9.000000"
      ]
     },
     "execution_count": 144,
     "metadata": {},
     "output_type": "execute_result"
    }
   ],
   "source": [
    "p_csv = pd.read_csv('Sample_data/persone/persone.csv', sep=';')\n",
    "p_csv.describe()"
   ]
  },
  {
   "cell_type": "code",
   "execution_count": 145,
   "id": "10fe62de",
   "metadata": {
    "scrolled": true
   },
   "outputs": [
    {
     "name": "stdout",
     "output_type": "stream",
     "text": [
      "<class 'pandas.core.frame.DataFrame'>\n",
      "RangeIndex: 108 entries, 0 to 107\n",
      "Data columns (total 12 columns):\n",
      " #   Column          Non-Null Count  Dtype \n",
      "---  ------          --------------  ----- \n",
      " 0   Nome            108 non-null    object\n",
      " 1   Cognome         108 non-null    object\n",
      " 2   Sesso           108 non-null    object\n",
      " 3   Datadinascita   108 non-null    object\n",
      " 4   Cittadinascita  108 non-null    object\n",
      " 5   Regione         108 non-null    object\n",
      " 6   Html            108 non-null    int64 \n",
      " 7   Css             108 non-null    int64 \n",
      " 8   Php             108 non-null    int64 \n",
      " 9   C#              108 non-null    int64 \n",
      " 10  Sql             108 non-null    int64 \n",
      " 11  Js              108 non-null    int64 \n",
      "dtypes: int64(6), object(6)\n",
      "memory usage: 10.2+ KB\n"
     ]
    }
   ],
   "source": [
    "p_csv.info()"
   ]
  },
  {
   "cell_type": "code",
   "execution_count": 146,
   "id": "e10f49c8",
   "metadata": {},
   "outputs": [
    {
     "data": {
      "text/html": [
       "<div>\n",
       "<style scoped>\n",
       "    .dataframe tbody tr th:only-of-type {\n",
       "        vertical-align: middle;\n",
       "    }\n",
       "\n",
       "    .dataframe tbody tr th {\n",
       "        vertical-align: top;\n",
       "    }\n",
       "\n",
       "    .dataframe thead th {\n",
       "        text-align: right;\n",
       "    }\n",
       "</style>\n",
       "<table border=\"1\" class=\"dataframe\">\n",
       "  <thead>\n",
       "    <tr style=\"text-align: right;\">\n",
       "      <th></th>\n",
       "      <th>Nome</th>\n",
       "      <th>Cognome</th>\n",
       "      <th>Sesso</th>\n",
       "      <th>Datadinascita</th>\n",
       "      <th>Cittadinascita</th>\n",
       "      <th>Regione</th>\n",
       "      <th>Html</th>\n",
       "      <th>Css</th>\n",
       "      <th>Php</th>\n",
       "      <th>C#</th>\n",
       "      <th>Sql</th>\n",
       "      <th>Js</th>\n",
       "    </tr>\n",
       "  </thead>\n",
       "  <tbody>\n",
       "    <tr>\n",
       "      <th>0</th>\n",
       "      <td>Roberto</td>\n",
       "      <td>Benigni</td>\n",
       "      <td>M</td>\n",
       "      <td>01/06/1965</td>\n",
       "      <td>Udine</td>\n",
       "      <td>FVG</td>\n",
       "      <td>6</td>\n",
       "      <td>7</td>\n",
       "      <td>9</td>\n",
       "      <td>7</td>\n",
       "      <td>5</td>\n",
       "      <td>4</td>\n",
       "    </tr>\n",
       "    <tr>\n",
       "      <th>1</th>\n",
       "      <td>Claudio</td>\n",
       "      <td>Bisio</td>\n",
       "      <td>M</td>\n",
       "      <td>20/01/1962</td>\n",
       "      <td>Belluno</td>\n",
       "      <td>VEN</td>\n",
       "      <td>1</td>\n",
       "      <td>2</td>\n",
       "      <td>3</td>\n",
       "      <td>4</td>\n",
       "      <td>5</td>\n",
       "      <td>6</td>\n",
       "    </tr>\n",
       "    <tr>\n",
       "      <th>2</th>\n",
       "      <td>Francesca</td>\n",
       "      <td>Cipriani</td>\n",
       "      <td>F</td>\n",
       "      <td>19/08/1959</td>\n",
       "      <td>Belluno</td>\n",
       "      <td>VEN</td>\n",
       "      <td>7</td>\n",
       "      <td>7</td>\n",
       "      <td>6</td>\n",
       "      <td>7</td>\n",
       "      <td>6</td>\n",
       "      <td>6</td>\n",
       "    </tr>\n",
       "    <tr>\n",
       "      <th>3</th>\n",
       "      <td>Susanna</td>\n",
       "      <td>Messaggio</td>\n",
       "      <td>F</td>\n",
       "      <td>29/05/2000</td>\n",
       "      <td>Verona</td>\n",
       "      <td>VEN</td>\n",
       "      <td>7</td>\n",
       "      <td>7</td>\n",
       "      <td>6</td>\n",
       "      <td>4</td>\n",
       "      <td>6</td>\n",
       "      <td>6</td>\n",
       "    </tr>\n",
       "    <tr>\n",
       "      <th>4</th>\n",
       "      <td>Aldo</td>\n",
       "      <td>Biscardi</td>\n",
       "      <td>M</td>\n",
       "      <td>21/11/1989</td>\n",
       "      <td>Aosta</td>\n",
       "      <td>VDA</td>\n",
       "      <td>5</td>\n",
       "      <td>3</td>\n",
       "      <td>1</td>\n",
       "      <td>1</td>\n",
       "      <td>7</td>\n",
       "      <td>3</td>\n",
       "    </tr>\n",
       "  </tbody>\n",
       "</table>\n",
       "</div>"
      ],
      "text/plain": [
       "        Nome    Cognome Sesso Datadinascita Cittadinascita Regione  Html  Css  \\\n",
       "0    Roberto    Benigni     M    01/06/1965          Udine     FVG     6    7   \n",
       "1    Claudio      Bisio     M    20/01/1962        Belluno     VEN     1    2   \n",
       "2  Francesca   Cipriani     F    19/08/1959        Belluno     VEN     7    7   \n",
       "3    Susanna  Messaggio     F    29/05/2000         Verona     VEN     7    7   \n",
       "4       Aldo   Biscardi     M    21/11/1989          Aosta     VDA     5    3   \n",
       "\n",
       "   Php  C#  Sql  Js  \n",
       "0    9   7    5   4  \n",
       "1    3   4    5   6  \n",
       "2    6   7    6   6  \n",
       "3    6   4    6   6  \n",
       "4    1   1    7   3  "
      ]
     },
     "execution_count": 146,
     "metadata": {},
     "output_type": "execute_result"
    }
   ],
   "source": [
    "p_csv.head()"
   ]
  },
  {
   "cell_type": "markdown",
   "id": "0f24f652",
   "metadata": {},
   "source": [
    "## JSON\n"
   ]
  },
  {
   "cell_type": "code",
   "execution_count": 147,
   "id": "e39d7b6a",
   "metadata": {
    "scrolled": true
   },
   "outputs": [
    {
     "data": {
      "text/html": [
       "<div>\n",
       "<style scoped>\n",
       "    .dataframe tbody tr th:only-of-type {\n",
       "        vertical-align: middle;\n",
       "    }\n",
       "\n",
       "    .dataframe tbody tr th {\n",
       "        vertical-align: top;\n",
       "    }\n",
       "\n",
       "    .dataframe thead th {\n",
       "        text-align: right;\n",
       "    }\n",
       "</style>\n",
       "<table border=\"1\" class=\"dataframe\">\n",
       "  <thead>\n",
       "    <tr style=\"text-align: right;\">\n",
       "      <th></th>\n",
       "      <th>Html</th>\n",
       "      <th>Css</th>\n",
       "      <th>Php</th>\n",
       "      <th>C#</th>\n",
       "      <th>Sql</th>\n",
       "      <th>Js</th>\n",
       "    </tr>\n",
       "  </thead>\n",
       "  <tbody>\n",
       "    <tr>\n",
       "      <th>count</th>\n",
       "      <td>108.000000</td>\n",
       "      <td>108.000000</td>\n",
       "      <td>108.000000</td>\n",
       "      <td>108.000000</td>\n",
       "      <td>108.000000</td>\n",
       "      <td>108.000000</td>\n",
       "    </tr>\n",
       "    <tr>\n",
       "      <th>mean</th>\n",
       "      <td>4.861111</td>\n",
       "      <td>4.027778</td>\n",
       "      <td>3.740741</td>\n",
       "      <td>2.564815</td>\n",
       "      <td>4.157407</td>\n",
       "      <td>2.851852</td>\n",
       "    </tr>\n",
       "    <tr>\n",
       "      <th>std</th>\n",
       "      <td>3.009202</td>\n",
       "      <td>2.917746</td>\n",
       "      <td>3.049040</td>\n",
       "      <td>2.536733</td>\n",
       "      <td>3.072829</td>\n",
       "      <td>2.685422</td>\n",
       "    </tr>\n",
       "    <tr>\n",
       "      <th>min</th>\n",
       "      <td>0.000000</td>\n",
       "      <td>0.000000</td>\n",
       "      <td>0.000000</td>\n",
       "      <td>0.000000</td>\n",
       "      <td>0.000000</td>\n",
       "      <td>0.000000</td>\n",
       "    </tr>\n",
       "    <tr>\n",
       "      <th>25%</th>\n",
       "      <td>1.000000</td>\n",
       "      <td>1.000000</td>\n",
       "      <td>1.000000</td>\n",
       "      <td>1.000000</td>\n",
       "      <td>1.000000</td>\n",
       "      <td>0.000000</td>\n",
       "    </tr>\n",
       "    <tr>\n",
       "      <th>50%</th>\n",
       "      <td>6.000000</td>\n",
       "      <td>5.000000</td>\n",
       "      <td>5.000000</td>\n",
       "      <td>1.500000</td>\n",
       "      <td>5.000000</td>\n",
       "      <td>2.000000</td>\n",
       "    </tr>\n",
       "    <tr>\n",
       "      <th>75%</th>\n",
       "      <td>7.000000</td>\n",
       "      <td>7.000000</td>\n",
       "      <td>6.000000</td>\n",
       "      <td>4.000000</td>\n",
       "      <td>7.000000</td>\n",
       "      <td>6.000000</td>\n",
       "    </tr>\n",
       "    <tr>\n",
       "      <th>max</th>\n",
       "      <td>9.000000</td>\n",
       "      <td>8.000000</td>\n",
       "      <td>9.000000</td>\n",
       "      <td>9.000000</td>\n",
       "      <td>9.000000</td>\n",
       "      <td>9.000000</td>\n",
       "    </tr>\n",
       "  </tbody>\n",
       "</table>\n",
       "</div>"
      ],
      "text/plain": [
       "             Html         Css         Php          C#         Sql          Js\n",
       "count  108.000000  108.000000  108.000000  108.000000  108.000000  108.000000\n",
       "mean     4.861111    4.027778    3.740741    2.564815    4.157407    2.851852\n",
       "std      3.009202    2.917746    3.049040    2.536733    3.072829    2.685422\n",
       "min      0.000000    0.000000    0.000000    0.000000    0.000000    0.000000\n",
       "25%      1.000000    1.000000    1.000000    1.000000    1.000000    0.000000\n",
       "50%      6.000000    5.000000    5.000000    1.500000    5.000000    2.000000\n",
       "75%      7.000000    7.000000    6.000000    4.000000    7.000000    6.000000\n",
       "max      9.000000    8.000000    9.000000    9.000000    9.000000    9.000000"
      ]
     },
     "execution_count": 147,
     "metadata": {},
     "output_type": "execute_result"
    }
   ],
   "source": [
    "p_json = pd.read_json('Sample_data/persone/persone.json')\n",
    "p_json.describe()"
   ]
  },
  {
   "cell_type": "code",
   "execution_count": 148,
   "id": "4c42c8d2",
   "metadata": {},
   "outputs": [
    {
     "name": "stdout",
     "output_type": "stream",
     "text": [
      "<class 'pandas.core.frame.DataFrame'>\n",
      "RangeIndex: 108 entries, 0 to 107\n",
      "Data columns (total 12 columns):\n",
      " #   Column          Non-Null Count  Dtype \n",
      "---  ------          --------------  ----- \n",
      " 0   Nome            108 non-null    object\n",
      " 1   Cognome         108 non-null    object\n",
      " 2   Sesso           108 non-null    object\n",
      " 3   Datadinascita   108 non-null    object\n",
      " 4   Cittadinascita  108 non-null    object\n",
      " 5   Regione         108 non-null    object\n",
      " 6   Html            108 non-null    int64 \n",
      " 7   Css             108 non-null    int64 \n",
      " 8   Php             108 non-null    int64 \n",
      " 9   C#              108 non-null    int64 \n",
      " 10  Sql             108 non-null    int64 \n",
      " 11  Js              108 non-null    int64 \n",
      "dtypes: int64(6), object(6)\n",
      "memory usage: 10.2+ KB\n"
     ]
    }
   ],
   "source": [
    "p_json.info()"
   ]
  },
  {
   "cell_type": "code",
   "execution_count": 149,
   "id": "45688f33",
   "metadata": {},
   "outputs": [
    {
     "data": {
      "text/html": [
       "<div>\n",
       "<style scoped>\n",
       "    .dataframe tbody tr th:only-of-type {\n",
       "        vertical-align: middle;\n",
       "    }\n",
       "\n",
       "    .dataframe tbody tr th {\n",
       "        vertical-align: top;\n",
       "    }\n",
       "\n",
       "    .dataframe thead th {\n",
       "        text-align: right;\n",
       "    }\n",
       "</style>\n",
       "<table border=\"1\" class=\"dataframe\">\n",
       "  <thead>\n",
       "    <tr style=\"text-align: right;\">\n",
       "      <th></th>\n",
       "      <th>Nome</th>\n",
       "      <th>Cognome</th>\n",
       "      <th>Sesso</th>\n",
       "      <th>Datadinascita</th>\n",
       "      <th>Cittadinascita</th>\n",
       "      <th>Regione</th>\n",
       "      <th>Html</th>\n",
       "      <th>Css</th>\n",
       "      <th>Php</th>\n",
       "      <th>C#</th>\n",
       "      <th>Sql</th>\n",
       "      <th>Js</th>\n",
       "    </tr>\n",
       "  </thead>\n",
       "  <tbody>\n",
       "    <tr>\n",
       "      <th>0</th>\n",
       "      <td>Roberto</td>\n",
       "      <td>Benigni</td>\n",
       "      <td>M</td>\n",
       "      <td>01/06/1965</td>\n",
       "      <td>Udine</td>\n",
       "      <td>FVG</td>\n",
       "      <td>6</td>\n",
       "      <td>7</td>\n",
       "      <td>9</td>\n",
       "      <td>7</td>\n",
       "      <td>5</td>\n",
       "      <td>4</td>\n",
       "    </tr>\n",
       "    <tr>\n",
       "      <th>1</th>\n",
       "      <td>Claudio</td>\n",
       "      <td>Bisio</td>\n",
       "      <td>M</td>\n",
       "      <td>20/01/1962</td>\n",
       "      <td>Belluno</td>\n",
       "      <td>VEN</td>\n",
       "      <td>1</td>\n",
       "      <td>2</td>\n",
       "      <td>3</td>\n",
       "      <td>4</td>\n",
       "      <td>5</td>\n",
       "      <td>6</td>\n",
       "    </tr>\n",
       "    <tr>\n",
       "      <th>2</th>\n",
       "      <td>Francesca</td>\n",
       "      <td>Cipriani</td>\n",
       "      <td>F</td>\n",
       "      <td>19/08/1959</td>\n",
       "      <td>Belluno</td>\n",
       "      <td>VEN</td>\n",
       "      <td>7</td>\n",
       "      <td>7</td>\n",
       "      <td>6</td>\n",
       "      <td>7</td>\n",
       "      <td>6</td>\n",
       "      <td>6</td>\n",
       "    </tr>\n",
       "    <tr>\n",
       "      <th>3</th>\n",
       "      <td>Susanna</td>\n",
       "      <td>Messaggio</td>\n",
       "      <td>F</td>\n",
       "      <td>29/05/2000</td>\n",
       "      <td>Verona</td>\n",
       "      <td>VEN</td>\n",
       "      <td>7</td>\n",
       "      <td>7</td>\n",
       "      <td>6</td>\n",
       "      <td>4</td>\n",
       "      <td>6</td>\n",
       "      <td>6</td>\n",
       "    </tr>\n",
       "    <tr>\n",
       "      <th>4</th>\n",
       "      <td>Aldo</td>\n",
       "      <td>Biscardi</td>\n",
       "      <td>M</td>\n",
       "      <td>21/11/1989</td>\n",
       "      <td>Aosta</td>\n",
       "      <td>VDA</td>\n",
       "      <td>5</td>\n",
       "      <td>3</td>\n",
       "      <td>1</td>\n",
       "      <td>1</td>\n",
       "      <td>7</td>\n",
       "      <td>3</td>\n",
       "    </tr>\n",
       "  </tbody>\n",
       "</table>\n",
       "</div>"
      ],
      "text/plain": [
       "        Nome    Cognome Sesso Datadinascita Cittadinascita Regione  Html  Css  \\\n",
       "0    Roberto    Benigni     M    01/06/1965          Udine     FVG     6    7   \n",
       "1    Claudio      Bisio     M    20/01/1962        Belluno     VEN     1    2   \n",
       "2  Francesca   Cipriani     F    19/08/1959        Belluno     VEN     7    7   \n",
       "3    Susanna  Messaggio     F    29/05/2000         Verona     VEN     7    7   \n",
       "4       Aldo   Biscardi     M    21/11/1989          Aosta     VDA     5    3   \n",
       "\n",
       "   Php  C#  Sql  Js  \n",
       "0    9   7    5   4  \n",
       "1    3   4    5   6  \n",
       "2    6   7    6   6  \n",
       "3    6   4    6   6  \n",
       "4    1   1    7   3  "
      ]
     },
     "execution_count": 149,
     "metadata": {},
     "output_type": "execute_result"
    }
   ],
   "source": [
    "p_json.head()"
   ]
  },
  {
   "cell_type": "markdown",
   "id": "8b88cdd4",
   "metadata": {},
   "source": [
    "## HTML"
   ]
  },
  {
   "cell_type": "code",
   "execution_count": 150,
   "id": "dcfce8b7",
   "metadata": {},
   "outputs": [
    {
     "data": {
      "text/html": [
       "<div>\n",
       "<style scoped>\n",
       "    .dataframe tbody tr th:only-of-type {\n",
       "        vertical-align: middle;\n",
       "    }\n",
       "\n",
       "    .dataframe tbody tr th {\n",
       "        vertical-align: top;\n",
       "    }\n",
       "\n",
       "    .dataframe thead th {\n",
       "        text-align: right;\n",
       "    }\n",
       "</style>\n",
       "<table border=\"1\" class=\"dataframe\">\n",
       "  <thead>\n",
       "    <tr style=\"text-align: right;\">\n",
       "      <th></th>\n",
       "      <th>Html</th>\n",
       "      <th>Css</th>\n",
       "      <th>Php</th>\n",
       "      <th>C#</th>\n",
       "      <th>Sql</th>\n",
       "      <th>Js</th>\n",
       "    </tr>\n",
       "  </thead>\n",
       "  <tbody>\n",
       "    <tr>\n",
       "      <th>count</th>\n",
       "      <td>108.000000</td>\n",
       "      <td>108.000000</td>\n",
       "      <td>108.000000</td>\n",
       "      <td>108.000000</td>\n",
       "      <td>108.000000</td>\n",
       "      <td>108.000000</td>\n",
       "    </tr>\n",
       "    <tr>\n",
       "      <th>mean</th>\n",
       "      <td>4.861111</td>\n",
       "      <td>4.027778</td>\n",
       "      <td>3.740741</td>\n",
       "      <td>2.564815</td>\n",
       "      <td>4.157407</td>\n",
       "      <td>2.851852</td>\n",
       "    </tr>\n",
       "    <tr>\n",
       "      <th>std</th>\n",
       "      <td>3.009202</td>\n",
       "      <td>2.917746</td>\n",
       "      <td>3.049040</td>\n",
       "      <td>2.536733</td>\n",
       "      <td>3.072829</td>\n",
       "      <td>2.685422</td>\n",
       "    </tr>\n",
       "    <tr>\n",
       "      <th>min</th>\n",
       "      <td>0.000000</td>\n",
       "      <td>0.000000</td>\n",
       "      <td>0.000000</td>\n",
       "      <td>0.000000</td>\n",
       "      <td>0.000000</td>\n",
       "      <td>0.000000</td>\n",
       "    </tr>\n",
       "    <tr>\n",
       "      <th>25%</th>\n",
       "      <td>1.000000</td>\n",
       "      <td>1.000000</td>\n",
       "      <td>1.000000</td>\n",
       "      <td>1.000000</td>\n",
       "      <td>1.000000</td>\n",
       "      <td>0.000000</td>\n",
       "    </tr>\n",
       "    <tr>\n",
       "      <th>50%</th>\n",
       "      <td>6.000000</td>\n",
       "      <td>5.000000</td>\n",
       "      <td>5.000000</td>\n",
       "      <td>1.500000</td>\n",
       "      <td>5.000000</td>\n",
       "      <td>2.000000</td>\n",
       "    </tr>\n",
       "    <tr>\n",
       "      <th>75%</th>\n",
       "      <td>7.000000</td>\n",
       "      <td>7.000000</td>\n",
       "      <td>6.000000</td>\n",
       "      <td>4.000000</td>\n",
       "      <td>7.000000</td>\n",
       "      <td>6.000000</td>\n",
       "    </tr>\n",
       "    <tr>\n",
       "      <th>max</th>\n",
       "      <td>9.000000</td>\n",
       "      <td>8.000000</td>\n",
       "      <td>9.000000</td>\n",
       "      <td>9.000000</td>\n",
       "      <td>9.000000</td>\n",
       "      <td>9.000000</td>\n",
       "    </tr>\n",
       "  </tbody>\n",
       "</table>\n",
       "</div>"
      ],
      "text/plain": [
       "             Html         Css         Php          C#         Sql          Js\n",
       "count  108.000000  108.000000  108.000000  108.000000  108.000000  108.000000\n",
       "mean     4.861111    4.027778    3.740741    2.564815    4.157407    2.851852\n",
       "std      3.009202    2.917746    3.049040    2.536733    3.072829    2.685422\n",
       "min      0.000000    0.000000    0.000000    0.000000    0.000000    0.000000\n",
       "25%      1.000000    1.000000    1.000000    1.000000    1.000000    0.000000\n",
       "50%      6.000000    5.000000    5.000000    1.500000    5.000000    2.000000\n",
       "75%      7.000000    7.000000    6.000000    4.000000    7.000000    6.000000\n",
       "max      9.000000    8.000000    9.000000    9.000000    9.000000    9.000000"
      ]
     },
     "execution_count": 150,
     "metadata": {},
     "output_type": "execute_result"
    }
   ],
   "source": [
    "html_tables = pd.read_html('Sample_data/persone/persone.html')\n",
    "p_html = html_tables[0]\n",
    "p_html.describe()"
   ]
  },
  {
   "cell_type": "code",
   "execution_count": 151,
   "id": "738e2e26",
   "metadata": {},
   "outputs": [
    {
     "name": "stdout",
     "output_type": "stream",
     "text": [
      "<class 'pandas.core.frame.DataFrame'>\n",
      "RangeIndex: 108 entries, 0 to 107\n",
      "Data columns (total 12 columns):\n",
      " #   Column          Non-Null Count  Dtype \n",
      "---  ------          --------------  ----- \n",
      " 0   Nome            108 non-null    object\n",
      " 1   Cognome         108 non-null    object\n",
      " 2   Sesso           108 non-null    object\n",
      " 3   Datadinascita   108 non-null    object\n",
      " 4   Cittadinascita  108 non-null    object\n",
      " 5   Regione         108 non-null    object\n",
      " 6   Html            108 non-null    int64 \n",
      " 7   Css             108 non-null    int64 \n",
      " 8   Php             108 non-null    int64 \n",
      " 9   C#              108 non-null    int64 \n",
      " 10  Sql             108 non-null    int64 \n",
      " 11  Js              108 non-null    int64 \n",
      "dtypes: int64(6), object(6)\n",
      "memory usage: 10.2+ KB\n"
     ]
    }
   ],
   "source": [
    "p_html.info()"
   ]
  },
  {
   "cell_type": "code",
   "execution_count": 152,
   "id": "7a4e6ca9",
   "metadata": {},
   "outputs": [
    {
     "data": {
      "text/html": [
       "<div>\n",
       "<style scoped>\n",
       "    .dataframe tbody tr th:only-of-type {\n",
       "        vertical-align: middle;\n",
       "    }\n",
       "\n",
       "    .dataframe tbody tr th {\n",
       "        vertical-align: top;\n",
       "    }\n",
       "\n",
       "    .dataframe thead th {\n",
       "        text-align: right;\n",
       "    }\n",
       "</style>\n",
       "<table border=\"1\" class=\"dataframe\">\n",
       "  <thead>\n",
       "    <tr style=\"text-align: right;\">\n",
       "      <th></th>\n",
       "      <th>Nome</th>\n",
       "      <th>Cognome</th>\n",
       "      <th>Sesso</th>\n",
       "      <th>Datadinascita</th>\n",
       "      <th>Cittadinascita</th>\n",
       "      <th>Regione</th>\n",
       "      <th>Html</th>\n",
       "      <th>Css</th>\n",
       "      <th>Php</th>\n",
       "      <th>C#</th>\n",
       "      <th>Sql</th>\n",
       "      <th>Js</th>\n",
       "    </tr>\n",
       "  </thead>\n",
       "  <tbody>\n",
       "    <tr>\n",
       "      <th>0</th>\n",
       "      <td>Roberto</td>\n",
       "      <td>Benigni</td>\n",
       "      <td>M</td>\n",
       "      <td>01/06/1965</td>\n",
       "      <td>Udine</td>\n",
       "      <td>FVG</td>\n",
       "      <td>6</td>\n",
       "      <td>7</td>\n",
       "      <td>9</td>\n",
       "      <td>7</td>\n",
       "      <td>5</td>\n",
       "      <td>4</td>\n",
       "    </tr>\n",
       "    <tr>\n",
       "      <th>1</th>\n",
       "      <td>Claudio</td>\n",
       "      <td>Bisio</td>\n",
       "      <td>M</td>\n",
       "      <td>20/01/1962</td>\n",
       "      <td>Belluno</td>\n",
       "      <td>VEN</td>\n",
       "      <td>1</td>\n",
       "      <td>2</td>\n",
       "      <td>3</td>\n",
       "      <td>4</td>\n",
       "      <td>5</td>\n",
       "      <td>6</td>\n",
       "    </tr>\n",
       "    <tr>\n",
       "      <th>2</th>\n",
       "      <td>Francesca</td>\n",
       "      <td>Cipriani</td>\n",
       "      <td>F</td>\n",
       "      <td>19/08/1959</td>\n",
       "      <td>Belluno</td>\n",
       "      <td>VEN</td>\n",
       "      <td>7</td>\n",
       "      <td>7</td>\n",
       "      <td>6</td>\n",
       "      <td>7</td>\n",
       "      <td>6</td>\n",
       "      <td>6</td>\n",
       "    </tr>\n",
       "    <tr>\n",
       "      <th>3</th>\n",
       "      <td>Susanna</td>\n",
       "      <td>Messaggio</td>\n",
       "      <td>F</td>\n",
       "      <td>29/05/2000</td>\n",
       "      <td>Verona</td>\n",
       "      <td>VEN</td>\n",
       "      <td>7</td>\n",
       "      <td>7</td>\n",
       "      <td>6</td>\n",
       "      <td>4</td>\n",
       "      <td>6</td>\n",
       "      <td>6</td>\n",
       "    </tr>\n",
       "    <tr>\n",
       "      <th>4</th>\n",
       "      <td>Aldo</td>\n",
       "      <td>Biscardi</td>\n",
       "      <td>M</td>\n",
       "      <td>21/11/1989</td>\n",
       "      <td>Aosta</td>\n",
       "      <td>VDA</td>\n",
       "      <td>5</td>\n",
       "      <td>3</td>\n",
       "      <td>1</td>\n",
       "      <td>1</td>\n",
       "      <td>7</td>\n",
       "      <td>3</td>\n",
       "    </tr>\n",
       "  </tbody>\n",
       "</table>\n",
       "</div>"
      ],
      "text/plain": [
       "        Nome    Cognome Sesso Datadinascita Cittadinascita Regione  Html  Css  \\\n",
       "0    Roberto    Benigni     M    01/06/1965          Udine     FVG     6    7   \n",
       "1    Claudio      Bisio     M    20/01/1962        Belluno     VEN     1    2   \n",
       "2  Francesca   Cipriani     F    19/08/1959        Belluno     VEN     7    7   \n",
       "3    Susanna  Messaggio     F    29/05/2000         Verona     VEN     7    7   \n",
       "4       Aldo   Biscardi     M    21/11/1989          Aosta     VDA     5    3   \n",
       "\n",
       "   Php  C#  Sql  Js  \n",
       "0    9   7    5   4  \n",
       "1    3   4    5   6  \n",
       "2    6   7    6   6  \n",
       "3    6   4    6   6  \n",
       "4    1   1    7   3  "
      ]
     },
     "execution_count": 152,
     "metadata": {},
     "output_type": "execute_result"
    }
   ],
   "source": [
    "p_html.head()"
   ]
  },
  {
   "cell_type": "markdown",
   "id": "6f0e6f3a",
   "metadata": {},
   "source": [
    "## Excel"
   ]
  },
  {
   "cell_type": "code",
   "execution_count": 153,
   "id": "c4c11610",
   "metadata": {},
   "outputs": [
    {
     "data": {
      "text/html": [
       "<div>\n",
       "<style scoped>\n",
       "    .dataframe tbody tr th:only-of-type {\n",
       "        vertical-align: middle;\n",
       "    }\n",
       "\n",
       "    .dataframe tbody tr th {\n",
       "        vertical-align: top;\n",
       "    }\n",
       "\n",
       "    .dataframe thead th {\n",
       "        text-align: right;\n",
       "    }\n",
       "</style>\n",
       "<table border=\"1\" class=\"dataframe\">\n",
       "  <thead>\n",
       "    <tr style=\"text-align: right;\">\n",
       "      <th></th>\n",
       "      <th>Html</th>\n",
       "      <th>Css</th>\n",
       "      <th>Php</th>\n",
       "      <th>C#</th>\n",
       "      <th>Sql</th>\n",
       "      <th>Js</th>\n",
       "    </tr>\n",
       "  </thead>\n",
       "  <tbody>\n",
       "    <tr>\n",
       "      <th>count</th>\n",
       "      <td>108.000000</td>\n",
       "      <td>108.000000</td>\n",
       "      <td>108.000000</td>\n",
       "      <td>108.000000</td>\n",
       "      <td>108.000000</td>\n",
       "      <td>108.000000</td>\n",
       "    </tr>\n",
       "    <tr>\n",
       "      <th>mean</th>\n",
       "      <td>4.861111</td>\n",
       "      <td>4.027778</td>\n",
       "      <td>3.740741</td>\n",
       "      <td>2.564815</td>\n",
       "      <td>4.157407</td>\n",
       "      <td>2.851852</td>\n",
       "    </tr>\n",
       "    <tr>\n",
       "      <th>std</th>\n",
       "      <td>3.009202</td>\n",
       "      <td>2.917746</td>\n",
       "      <td>3.049040</td>\n",
       "      <td>2.536733</td>\n",
       "      <td>3.072829</td>\n",
       "      <td>2.685422</td>\n",
       "    </tr>\n",
       "    <tr>\n",
       "      <th>min</th>\n",
       "      <td>0.000000</td>\n",
       "      <td>0.000000</td>\n",
       "      <td>0.000000</td>\n",
       "      <td>0.000000</td>\n",
       "      <td>0.000000</td>\n",
       "      <td>0.000000</td>\n",
       "    </tr>\n",
       "    <tr>\n",
       "      <th>25%</th>\n",
       "      <td>1.000000</td>\n",
       "      <td>1.000000</td>\n",
       "      <td>1.000000</td>\n",
       "      <td>1.000000</td>\n",
       "      <td>1.000000</td>\n",
       "      <td>0.000000</td>\n",
       "    </tr>\n",
       "    <tr>\n",
       "      <th>50%</th>\n",
       "      <td>6.000000</td>\n",
       "      <td>5.000000</td>\n",
       "      <td>5.000000</td>\n",
       "      <td>1.500000</td>\n",
       "      <td>5.000000</td>\n",
       "      <td>2.000000</td>\n",
       "    </tr>\n",
       "    <tr>\n",
       "      <th>75%</th>\n",
       "      <td>7.000000</td>\n",
       "      <td>7.000000</td>\n",
       "      <td>6.000000</td>\n",
       "      <td>4.000000</td>\n",
       "      <td>7.000000</td>\n",
       "      <td>6.000000</td>\n",
       "    </tr>\n",
       "    <tr>\n",
       "      <th>max</th>\n",
       "      <td>9.000000</td>\n",
       "      <td>8.000000</td>\n",
       "      <td>9.000000</td>\n",
       "      <td>9.000000</td>\n",
       "      <td>9.000000</td>\n",
       "      <td>9.000000</td>\n",
       "    </tr>\n",
       "  </tbody>\n",
       "</table>\n",
       "</div>"
      ],
      "text/plain": [
       "             Html         Css         Php          C#         Sql          Js\n",
       "count  108.000000  108.000000  108.000000  108.000000  108.000000  108.000000\n",
       "mean     4.861111    4.027778    3.740741    2.564815    4.157407    2.851852\n",
       "std      3.009202    2.917746    3.049040    2.536733    3.072829    2.685422\n",
       "min      0.000000    0.000000    0.000000    0.000000    0.000000    0.000000\n",
       "25%      1.000000    1.000000    1.000000    1.000000    1.000000    0.000000\n",
       "50%      6.000000    5.000000    5.000000    1.500000    5.000000    2.000000\n",
       "75%      7.000000    7.000000    6.000000    4.000000    7.000000    6.000000\n",
       "max      9.000000    8.000000    9.000000    9.000000    9.000000    9.000000"
      ]
     },
     "execution_count": 153,
     "metadata": {},
     "output_type": "execute_result"
    }
   ],
   "source": [
    "p_xls = pd.read_excel('Sample_data/persone/persone.xlsx')\n",
    "p_xls.describe()"
   ]
  },
  {
   "cell_type": "code",
   "execution_count": 154,
   "id": "6a5405f9",
   "metadata": {},
   "outputs": [
    {
     "name": "stdout",
     "output_type": "stream",
     "text": [
      "<class 'pandas.core.frame.DataFrame'>\n",
      "RangeIndex: 108 entries, 0 to 107\n",
      "Data columns (total 12 columns):\n",
      " #   Column            Non-Null Count  Dtype         \n",
      "---  ------            --------------  -----         \n",
      " 0   Nome              108 non-null    object        \n",
      " 1   Cognome           108 non-null    object        \n",
      " 2   Sesso             108 non-null    object        \n",
      " 3   Data di nascita   108 non-null    datetime64[ns]\n",
      " 4   Citta di nascita  108 non-null    object        \n",
      " 5   Regione           108 non-null    object        \n",
      " 6   Html              108 non-null    int64         \n",
      " 7   Css               108 non-null    int64         \n",
      " 8   Php               108 non-null    int64         \n",
      " 9   C#                108 non-null    int64         \n",
      " 10  Sql               108 non-null    int64         \n",
      " 11  Js                108 non-null    int64         \n",
      "dtypes: datetime64[ns](1), int64(6), object(5)\n",
      "memory usage: 10.2+ KB\n"
     ]
    }
   ],
   "source": [
    "p_xls.info()"
   ]
  },
  {
   "cell_type": "code",
   "execution_count": 155,
   "id": "2cde42bd",
   "metadata": {},
   "outputs": [
    {
     "data": {
      "text/html": [
       "<div>\n",
       "<style scoped>\n",
       "    .dataframe tbody tr th:only-of-type {\n",
       "        vertical-align: middle;\n",
       "    }\n",
       "\n",
       "    .dataframe tbody tr th {\n",
       "        vertical-align: top;\n",
       "    }\n",
       "\n",
       "    .dataframe thead th {\n",
       "        text-align: right;\n",
       "    }\n",
       "</style>\n",
       "<table border=\"1\" class=\"dataframe\">\n",
       "  <thead>\n",
       "    <tr style=\"text-align: right;\">\n",
       "      <th></th>\n",
       "      <th>Nome</th>\n",
       "      <th>Cognome</th>\n",
       "      <th>Sesso</th>\n",
       "      <th>Data di nascita</th>\n",
       "      <th>Citta di nascita</th>\n",
       "      <th>Regione</th>\n",
       "      <th>Html</th>\n",
       "      <th>Css</th>\n",
       "      <th>Php</th>\n",
       "      <th>C#</th>\n",
       "      <th>Sql</th>\n",
       "      <th>Js</th>\n",
       "    </tr>\n",
       "  </thead>\n",
       "  <tbody>\n",
       "    <tr>\n",
       "      <th>0</th>\n",
       "      <td>Roberto</td>\n",
       "      <td>Benigni</td>\n",
       "      <td>M</td>\n",
       "      <td>1965-06-01</td>\n",
       "      <td>Udine</td>\n",
       "      <td>FVG</td>\n",
       "      <td>6</td>\n",
       "      <td>7</td>\n",
       "      <td>9</td>\n",
       "      <td>7</td>\n",
       "      <td>5</td>\n",
       "      <td>4</td>\n",
       "    </tr>\n",
       "    <tr>\n",
       "      <th>1</th>\n",
       "      <td>Claudio</td>\n",
       "      <td>Bisio</td>\n",
       "      <td>M</td>\n",
       "      <td>1962-01-20</td>\n",
       "      <td>Belluno</td>\n",
       "      <td>VEN</td>\n",
       "      <td>1</td>\n",
       "      <td>2</td>\n",
       "      <td>3</td>\n",
       "      <td>4</td>\n",
       "      <td>5</td>\n",
       "      <td>6</td>\n",
       "    </tr>\n",
       "    <tr>\n",
       "      <th>2</th>\n",
       "      <td>Francesca</td>\n",
       "      <td>Cipriani</td>\n",
       "      <td>F</td>\n",
       "      <td>1959-08-19</td>\n",
       "      <td>Belluno</td>\n",
       "      <td>VEN</td>\n",
       "      <td>7</td>\n",
       "      <td>7</td>\n",
       "      <td>6</td>\n",
       "      <td>7</td>\n",
       "      <td>6</td>\n",
       "      <td>6</td>\n",
       "    </tr>\n",
       "    <tr>\n",
       "      <th>3</th>\n",
       "      <td>Susanna</td>\n",
       "      <td>Messaggio</td>\n",
       "      <td>F</td>\n",
       "      <td>2000-05-29</td>\n",
       "      <td>Verona</td>\n",
       "      <td>VEN</td>\n",
       "      <td>7</td>\n",
       "      <td>7</td>\n",
       "      <td>6</td>\n",
       "      <td>4</td>\n",
       "      <td>6</td>\n",
       "      <td>6</td>\n",
       "    </tr>\n",
       "    <tr>\n",
       "      <th>4</th>\n",
       "      <td>Aldo</td>\n",
       "      <td>Biscardi</td>\n",
       "      <td>M</td>\n",
       "      <td>1989-11-21</td>\n",
       "      <td>Aosta</td>\n",
       "      <td>VDA</td>\n",
       "      <td>5</td>\n",
       "      <td>3</td>\n",
       "      <td>1</td>\n",
       "      <td>1</td>\n",
       "      <td>7</td>\n",
       "      <td>3</td>\n",
       "    </tr>\n",
       "  </tbody>\n",
       "</table>\n",
       "</div>"
      ],
      "text/plain": [
       "        Nome    Cognome Sesso Data di nascita Citta di nascita Regione  Html  \\\n",
       "0    Roberto    Benigni     M      1965-06-01            Udine     FVG     6   \n",
       "1    Claudio      Bisio     M      1962-01-20   Belluno            VEN     1   \n",
       "2  Francesca   Cipriani     F      1959-08-19   Belluno            VEN     7   \n",
       "3    Susanna  Messaggio     F      2000-05-29   Verona             VEN     7   \n",
       "4       Aldo   Biscardi     M      1989-11-21   Aosta              VDA     5   \n",
       "\n",
       "   Css  Php  C#  Sql  Js  \n",
       "0    7    9   7    5   4  \n",
       "1    2    3   4    5   6  \n",
       "2    7    6   7    6   6  \n",
       "3    7    6   4    6   6  \n",
       "4    3    1   1    7   3  "
      ]
     },
     "execution_count": 155,
     "metadata": {},
     "output_type": "execute_result"
    }
   ],
   "source": [
    "p_xls.head()"
   ]
  }
 ],
 "metadata": {
  "kernelspec": {
   "display_name": "Python 3 (ipykernel)",
   "language": "python",
   "name": "python3"
  },
  "language_info": {
   "codemirror_mode": {
    "name": "ipython",
    "version": 3
   },
   "file_extension": ".py",
   "mimetype": "text/x-python",
   "name": "python",
   "nbconvert_exporter": "python",
   "pygments_lexer": "ipython3",
   "version": "3.8.10"
  }
 },
 "nbformat": 4,
 "nbformat_minor": 5
}
