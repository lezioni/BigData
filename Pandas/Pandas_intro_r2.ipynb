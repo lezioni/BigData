{
 "cells": [
  {
   "cell_type": "markdown",
   "id": "44ddfed7",
   "metadata": {},
   "source": [
    "# Introduzione a Pandas e Numpy\n",
    "\n",
    "## Aggregati con Numpy\n",
    "\n",
    "Numpy è un modulo di Python **ottimizzato** per la manipolazione di **grandi quantità di dati**. Aggiunge supporto a grandi matrici e array multidimensionali insieme a una vasta collezione di funzioni matematiche di alto livello per poter operare efficientemente su queste strutture dati.\n",
    "\n",
    "Per approfondire https://numpy.org/"
   ]
  },
  {
   "cell_type": "markdown",
   "id": "87ebe73e",
   "metadata": {},
   "source": [
    "## Esempio di utilizzo di Numpy\n",
    "\n",
    "Di seguito un esempio di come si possa disegnare visualizzare l'andamento di una funzione utilizzando `numpy` e `matplotlib`"
   ]
  },
  {
   "cell_type": "code",
   "execution_count": 1,
   "id": "c3a771da",
   "metadata": {},
   "outputs": [
    {
     "data": {
      "image/png": "[encoded data removed]",
      "text/plain": [
       "<Figure size 432x288 with 1 Axes>"
      ]
     },
     "metadata": {
      "needs_background": "light"
     },
     "output_type": "display_data"
    }
   ],
   "source": [
    "import numpy as np\n",
    "import matplotlib.pyplot as plt\n",
    "# Genera 100 punti tra 0 e 6.28 equidistanti\n",
    "x = np.linspace(0, 2 * np.pi, 100)\n",
    "y = np.sin(x)\n",
    "plt.plot(x, y)\n",
    "plt.show()"
   ]
  },
  {
   "cell_type": "markdown",
   "id": "a95f0d6a",
   "metadata": {},
   "source": [
    "Possiamo utlizzare le due funzioni di Python `time` e `timeit` per valutare la differenza di performance tra l'implementazione di python e quella ottimizzata di Numpy.\n",
    "\n",
    "Creiamo una lista di un milione di interi e calcoliamone la somma con i due metodi `sum` nativo di python e `np.sum` di Numpy"
   ]
  },
  {
   "cell_type": "code",
   "execution_count": 2,
   "id": "6b30ceda",
   "metadata": {
    "scrolled": true
   },
   "outputs": [
    {
     "name": "stdout",
     "output_type": "stream",
     "text": [
      "Utilizzo sum\n",
      "CPU times: user 87.7 ms, sys: 0 ns, total: 87.7 ms\n",
      "Wall time: 86.8 ms\n",
      "\n",
      "Utilizzo np.sum\n",
      "CPU times: user 1.42 ms, sys: 0 ns, total: 1.42 ms\n",
      "Wall time: 1.11 ms\n"
     ]
    },
    {
     "data": {
      "text/plain": [
       "49957633465"
      ]
     },
     "execution_count": 2,
     "metadata": {},
     "output_type": "execute_result"
    }
   ],
   "source": [
    "interi_1M = np.random.randint(100000, size=1000000)\n",
    "\n",
    "print ('Utilizzo sum')\n",
    "%time sum(interi_1M)\n",
    "# %timeit sum(interi_1M)\n",
    "\n",
    "print()\n",
    "\n",
    "print ('Utilizzo np.sum')\n",
    "%time np.sum(interi_1M)\n",
    "# %timeit np.sum(interi_1M)"
   ]
  },
  {
   "cell_type": "code",
   "execution_count": 3,
   "id": "0b7e6621",
   "metadata": {},
   "outputs": [
    {
     "data": {
      "text/html": [
       "<style>\n",
       "table {float:left}\n",
       "</style>\n"
      ],
      "text/plain": [
       "<IPython.core.display.HTML object>"
      ]
     },
     "metadata": {},
     "output_type": "display_data"
    }
   ],
   "source": [
    "%%html\n",
    "<style>\n",
    "table {float:left}\n",
    "</style>"
   ]
  },
  {
   "cell_type": "markdown",
   "id": "c05bc2de",
   "metadata": {},
   "source": [
    "## Funzioni di aggregazione\n",
    "\n",
    "Di seguito un breve elenco di alcune delle funzioni disponibili in Numpy\n",
    "\n",
    "\n",
    " **Function Name**  | **NaN-safe Version**  | **Description**             \n",
    "--------------------|-----------------------|-----------------------------\n",
    " np.sum             | np.nansum             | Compute sum of elements     \n",
    " np.prod            | np.nanprod            | Compute product of elements \n",
    " np.mean            | np.nanmean            | Compute mean of elements    \n",
    " np.std             | np.nanstd             | Compute standard deviation  \n",
    " np.var             | np.nanvar             | Compute variance            \n",
    " np.min             | np.nanmin             | Find minimum value          \n",
    " np.max             | np.nanmax             | Find maximum value          \n",
    " np.argmin          | np.nanargmin          | Find index of minimum value \n",
    " np.argmax          | np.nanargmax          | Find index of maximum value "
   ]
  },
  {
   "cell_type": "markdown",
   "id": "26b4224f",
   "metadata": {},
   "source": [
    "# Pandas\n",
    "\n",
    "E' una libreria software per Pyton per la manipolazione e l'analisi dei dati\n",
    "\n",
    "Rilasciato sotto la licenza BSD\n",
    "\n",
    "Il nome deriva dal termine \"panel data\"\n",
    "\n",
    "Per una breve introduzione potete riferirvi a https://pandas.pydata.org/pandas-docs/stable/user_guide/10min.html\n",
    "\n",
    "\n",
    "\n",
    "## Series\n",
    "\n",
    "Sequenze 1-dimensionali di elementi omogenei\n",
    "\n",
    "Ogni elemento è associato ad un indice (non necessariamente numerico)\n",
    "\n",
    "Se l'indice non viene specificato ne viene creato uno automaticamente con un intero progressivo\n",
    "\n",
    "Una serie può essere facilmente creata a partire da una lista o da un dizionario\n",
    "\n",
    "Per approfondire: https://pandas.pydata.org/pandas-docs/stable/user_guide/dsintro.html"
   ]
  },
  {
   "cell_type": "code",
   "execution_count": 4,
   "id": "b78b7306",
   "metadata": {},
   "outputs": [],
   "source": [
    "import pandas as pd\n",
    "import matplotlib.pyplot as plt\n",
    "import numpy as np\n"
   ]
  },
  {
   "cell_type": "code",
   "execution_count": 5,
   "id": "89c9a988",
   "metadata": {},
   "outputs": [
    {
     "name": "stdout",
     "output_type": "stream",
     "text": [
      "0     2.8\n",
      "1    13.1\n",
      "2    14.2\n",
      "dtype: float64\n"
     ]
    }
   ],
   "source": [
    "# Serie senza indice esplicito creata a partire da una lista di float\n",
    "s1 = pd.Series([2.8, 13.1, 14.2])\n",
    "print(s1)"
   ]
  },
  {
   "cell_type": "code",
   "execution_count": 6,
   "id": "f5c21a8e",
   "metadata": {},
   "outputs": [
    {
     "data": {
      "text/plain": [
       "lunedì       12\n",
       "martedì      15\n",
       "mercoledì     9\n",
       "dtype: int64"
      ]
     },
     "execution_count": 6,
     "metadata": {},
     "output_type": "execute_result"
    }
   ],
   "source": [
    "# Serie di interi con un indice di stringhe esplicitamente creato\n",
    "pd.Series([12, 15, 9], index=['lunedì', 'martedì', 'mercoledì'])"
   ]
  },
  {
   "cell_type": "code",
   "execution_count": 7,
   "id": "d713b280",
   "metadata": {},
   "outputs": [
    {
     "data": {
      "text/plain": [
       "Mauro    27\n",
       "Luca     18\n",
       "Anna     42\n",
       "dtype: int64"
      ]
     },
     "execution_count": 7,
     "metadata": {},
     "output_type": "execute_result"
    }
   ],
   "source": [
    "# Serie creata a partire da un dizionario\n",
    "pd.Series({'Mauro':27, 'Luca':18, 'Anna':42})"
   ]
  },
  {
   "cell_type": "markdown",
   "id": "fe851374",
   "metadata": {},
   "source": [
    "Recupero di valori dalle serie\n",
    "\n",
    "Possiamo leggere i valori inseriti e l'indice"
   ]
  },
  {
   "cell_type": "code",
   "execution_count": 8,
   "id": "a207bb72",
   "metadata": {},
   "outputs": [
    {
     "name": "stdout",
     "output_type": "stream",
     "text": [
      "[12 15  9]\n",
      "Index(['lunedì', 'martedì', 'mercoledì'], dtype='object')\n"
     ]
    }
   ],
   "source": [
    "s = pd.Series([12, 15, 9], index=['lunedì', 'martedì', 'mercoledì'])\n",
    "\n",
    "# Stampa i valori\n",
    "print(s.values)\n",
    "\n",
    "# Stampa gli indici\n",
    "print(s.index)"
   ]
  },
  {
   "cell_type": "markdown",
   "id": "a876a16d",
   "metadata": {},
   "source": [
    "L'indice implicito (numerico) è sempre presente, anche quando ne viene definito uno esplicitamente\n",
    "\n",
    "Possiamo accedere ai singoli valori utilizzanto le due funzioni `loc` per gli indici espliciti e `iloc` per quelli impliciti\n",
    "\n",
    "Per approfondire https://pandas.pydata.org/pandas-docs/stable/user_guide/indexing.html"
   ]
  },
  {
   "cell_type": "code",
   "execution_count": 9,
   "id": "4a60a43f",
   "metadata": {},
   "outputs": [
    {
     "name": "stdout",
     "output_type": "stream",
     "text": [
      "15\n",
      "15\n"
     ]
    }
   ],
   "source": [
    "s = pd.Series([12, 15, 9, 7 ,35], index=['lunedì', 'martedì', 'mercoledì','giovedì','venerdì'])\n",
    "\n",
    "# Indice esplicito\n",
    "print(s.loc['martedì'])\n",
    "\n",
    "# Indice implicito\n",
    "print(s.iloc[1])"
   ]
  },
  {
   "cell_type": "code",
   "execution_count": 10,
   "id": "c3ca2360",
   "metadata": {},
   "outputs": [
    {
     "name": "stdout",
     "output_type": "stream",
     "text": [
      "martedì      15\n",
      "mercoledì     9\n",
      "giovedì       7\n",
      "dtype: int64\n"
     ]
    }
   ],
   "source": [
    "# Si possono anche leggere più elementi contigui\n",
    "print(s.loc['martedì':'giovedì']) # indice esplicito (elemento finale incluso)"
   ]
  },
  {
   "cell_type": "code",
   "execution_count": 11,
   "id": "469e75db",
   "metadata": {},
   "outputs": [
    {
     "name": "stdout",
     "output_type": "stream",
     "text": [
      "martedì      15\n",
      "mercoledì     9\n",
      "dtype: int64\n"
     ]
    }
   ],
   "source": [
    "print(s.iloc[1:3]) # # indice implicito (elemento finale escluso)"
   ]
  },
  {
   "cell_type": "markdown",
   "id": "9b345752",
   "metadata": {},
   "source": [
    "# DataFrames\n",
    "\n",
    "Sono delle tabelle in cui le colonne sono delle serie che condividono lo stesso indice\n",
    "\n",
    "Possono essere creati a partire da un dizionario, da una lista di dizionari, da un array bidimensionale e molto altro"
   ]
  },
  {
   "cell_type": "code",
   "execution_count": 12,
   "id": "895a70f0",
   "metadata": {},
   "outputs": [
    {
     "name": "stdout",
     "output_type": "stream",
     "text": [
      "       Anni  Altezza  Peso\n",
      "Mauro    35      178    70\n",
      "Luca     42      152    65\n",
      "Anna     29      180    75\n"
     ]
    }
   ],
   "source": [
    "anni = pd.Series([35, 42, 29], index=['Mauro', 'Luca', 'Anna'])\n",
    "altezza = pd.Series([178, 152, 180], index=['Mauro', 'Luca', 'Anna'])\n",
    "peso = pd.Series([70, 65, 75], index=['Mauro', 'Luca', 'Anna'])\n",
    "df = pd.DataFrame({'Anni':anni, 'Altezza':altezza,'Peso':peso})\n",
    "print(df)"
   ]
  },
  {
   "cell_type": "code",
   "execution_count": 13,
   "id": "5b818173",
   "metadata": {},
   "outputs": [
    {
     "name": "stdout",
     "output_type": "stream",
     "text": [
      "   Anni  Altezza  Peso\n",
      "0    35      178    70\n",
      "1    42      152    65\n",
      "2    29      180    75\n"
     ]
    }
   ],
   "source": [
    "# Senza indice esplicito ...\n",
    "anni = pd.Series([35, 42, 29])\n",
    "altezza = pd.Series([178, 152, 180])\n",
    "peso = pd.Series([70, 65, 75])\n",
    "dati_persone = pd.DataFrame({'Anni':anni, 'Altezza':altezza,'Peso':peso})\n",
    "print(dati_persone)"
   ]
  },
  {
   "cell_type": "markdown",
   "id": "9026e4c9",
   "metadata": {},
   "source": [
    "Altri metodi molto più comodi per la creazione dei DataFrames sono la creazione di dataframe a partire da files:\n",
    "- csv\n",
    "- json\n",
    "- html\n",
    "- excel\n",
    "- ... e molti altri\n",
    "\n",
    "La lista completa la trovate su https://pandas.pydata.org/pandas-docs/stable/user_guide/io.html"
   ]
  },
  {
   "cell_type": "markdown",
   "id": "54f735ce",
   "metadata": {},
   "source": [
    "# Missing values\n",
    "\n",
    "Pandas offre molte funzioni per la **bonifica dei dati** sono utilissime in caso di importazione di dati \"sporchi\" o incompleti\n",
    "\n",
    "- isnull()\n",
    "- notnull()\n",
    "- dropna()\n",
    "- fillna()\n",
    "\n",
    "Si possono eliminare i dati nulli, sostituire con un valore di default, con il valore precedente, con il successivo o con un valore calcolato.\n",
    "\n",
    "Si possono eliminare intere colonne o righe con valori non accettabili.\n",
    "\n",
    "Per approfondire: https://pandas.pydata.org/pandas-docs/stable/user_guide/missing_data.html"
   ]
  },
  {
   "cell_type": "markdown",
   "id": "1ffe3328",
   "metadata": {},
   "source": [
    "# Tabelle\n",
    "\n",
    "Si può anche personalizzare la visualizzazione dei dati tabellari con i fogli di stile.\n",
    "\n",
    "Per approfondire: https://pandas.pydata.org/pandas-docs/stable/user_guide/style.html"
   ]
  },
  {
   "cell_type": "code",
   "execution_count": 14,
   "id": "f78c7a1a",
   "metadata": {},
   "outputs": [
    {
     "data": {
      "text/html": [
       "<div>\n",
       "<style scoped>\n",
       "    .dataframe tbody tr th:only-of-type {\n",
       "        vertical-align: middle;\n",
       "    }\n",
       "\n",
       "    .dataframe tbody tr th {\n",
       "        vertical-align: top;\n",
       "    }\n",
       "\n",
       "    .dataframe thead th {\n",
       "        text-align: right;\n",
       "    }\n",
       "</style>\n",
       "<table border=\"1\" class=\"dataframe\">\n",
       "  <thead>\n",
       "    <tr style=\"text-align: right;\">\n",
       "      <th></th>\n",
       "      <th>Anni</th>\n",
       "      <th>Altezza</th>\n",
       "      <th>Peso</th>\n",
       "    </tr>\n",
       "  </thead>\n",
       "  <tbody>\n",
       "    <tr>\n",
       "      <th>0</th>\n",
       "      <td>35</td>\n",
       "      <td>178</td>\n",
       "      <td>70</td>\n",
       "    </tr>\n",
       "    <tr>\n",
       "      <th>1</th>\n",
       "      <td>42</td>\n",
       "      <td>152</td>\n",
       "      <td>65</td>\n",
       "    </tr>\n",
       "    <tr>\n",
       "      <th>2</th>\n",
       "      <td>29</td>\n",
       "      <td>180</td>\n",
       "      <td>75</td>\n",
       "    </tr>\n",
       "  </tbody>\n",
       "</table>\n",
       "</div>"
      ],
      "text/plain": [
       "   Anni  Altezza  Peso\n",
       "0    35      178    70\n",
       "1    42      152    65\n",
       "2    29      180    75"
      ]
     },
     "execution_count": 14,
     "metadata": {},
     "output_type": "execute_result"
    }
   ],
   "source": [
    "dati_persone"
   ]
  },
  {
   "cell_type": "code",
   "execution_count": 15,
   "id": "25076b70",
   "metadata": {},
   "outputs": [
    {
     "data": {
      "text/html": [
       "<style type=\"text/css\">\n",
       "#T_cd0a5  {\n",
       "  border-collapse: separate;\n",
       "}\n",
       "#T_cd0a5 caption {\n",
       "  caption-side: bottom;\n",
       "  font-size: 1.3em;\n",
       "  text-align: center;\n",
       "}\n",
       "#T_cd0a5 .index_name {\n",
       "  font-style: italic;\n",
       "  color: darkgrey;\n",
       "  font-weight: normal;\n",
       "}\n",
       "#T_cd0a5 th:not(.index_name) {\n",
       "  background-color: #c2f0c2;\n",
       "  color: black;\n",
       "}\n",
       "#T_cd0a5 th.col_heading {\n",
       "  text-align: center;\n",
       "}\n",
       "#T_cd0a5 th.col_heading.level0 {\n",
       "  font-size: 1.5em;\n",
       "}\n",
       "#T_cd0a5 td {\n",
       "  text-align: center;\n",
       "  font-weight: bold;\n",
       "}\n",
       "#T_cd0a5 .true {\n",
       "  background-color: #00000;\n",
       "}\n",
       "#T_cd0a5 .false {\n",
       "  background-color: #ffffcc;\n",
       "}\n",
       "#T_cd0a5 td:hover {\n",
       "  background-color: #ffcc80;\n",
       "}\n",
       "#T_cd0a5 .pd-tt {\n",
       "  visibility: hidden;\n",
       "  position: absolute;\n",
       "  z-index: 1;\n",
       "  border: 1px solid #000066;\n",
       "  background-color: white;\n",
       "  color: #000066;\n",
       "  font-size: 0.8em;\n",
       "  transform: translate(0px, -24px);\n",
       "  padding: 0.6em;\n",
       "  border-radius: 0.5em;\n",
       "}\n",
       "#T_cd0a5 #T_cd0a5_row0_col0:hover .pd-tt {\n",
       "  visibility: visible;\n",
       "}\n",
       "#T_cd0a5 #T_cd0a5_row0_col0 .pd-tt::after {\n",
       "  content: \"Tooltip1\";\n",
       "}\n",
       "#T_cd0a5 #T_cd0a5_row0_col1:hover .pd-tt {\n",
       "  visibility: visible;\n",
       "}\n",
       "#T_cd0a5 #T_cd0a5_row0_col1 .pd-tt::after {\n",
       "  content: \"Tooltip2\";\n",
       "}\n",
       "#T_cd0a5 #T_cd0a5_row0_col2:hover .pd-tt {\n",
       "  visibility: visible;\n",
       "}\n",
       "#T_cd0a5 #T_cd0a5_row0_col2 .pd-tt::after {\n",
       "  content: \"Tooltip3\";\n",
       "}\n",
       "#T_cd0a5 #T_cd0a5_row1_col0:hover .pd-tt {\n",
       "  visibility: visible;\n",
       "}\n",
       "#T_cd0a5 #T_cd0a5_row1_col0 .pd-tt::after {\n",
       "  content: \"1\";\n",
       "}\n",
       "#T_cd0a5 #T_cd0a5_row1_col1:hover .pd-tt {\n",
       "  visibility: visible;\n",
       "}\n",
       "#T_cd0a5 #T_cd0a5_row1_col1 .pd-tt::after {\n",
       "  content: \"2\";\n",
       "}\n",
       "#T_cd0a5 #T_cd0a5_row1_col2:hover .pd-tt {\n",
       "  visibility: visible;\n",
       "}\n",
       "#T_cd0a5 #T_cd0a5_row1_col2 .pd-tt::after {\n",
       "  content: \"3\";\n",
       "}\n",
       "#T_cd0a5 #T_cd0a5_row2_col0:hover .pd-tt {\n",
       "  visibility: visible;\n",
       "}\n",
       "#T_cd0a5 #T_cd0a5_row2_col0 .pd-tt::after {\n",
       "  content: \"4\";\n",
       "}\n",
       "#T_cd0a5 #T_cd0a5_row2_col1:hover .pd-tt {\n",
       "  visibility: visible;\n",
       "}\n",
       "#T_cd0a5 #T_cd0a5_row2_col1 .pd-tt::after {\n",
       "  content: \"5\";\n",
       "}\n",
       "#T_cd0a5 #T_cd0a5_row2_col2:hover .pd-tt {\n",
       "  visibility: visible;\n",
       "}\n",
       "#T_cd0a5 #T_cd0a5_row2_col2 .pd-tt::after {\n",
       "  content: \"6\";\n",
       "}\n",
       "</style>\n",
       "<table id=\"T_cd0a5\">\n",
       "  <caption>Raccolta dati persone</caption>\n",
       "  <thead>\n",
       "    <tr>\n",
       "      <th class=\"blank level0\" >&nbsp;</th>\n",
       "      <th id=\"T_cd0a5_level0_col0\" class=\"col_heading level0 col0\" >Anni</th>\n",
       "      <th id=\"T_cd0a5_level0_col1\" class=\"col_heading level0 col1\" >Altezza</th>\n",
       "      <th id=\"T_cd0a5_level0_col2\" class=\"col_heading level0 col2\" >Peso</th>\n",
       "    </tr>\n",
       "  </thead>\n",
       "  <tbody>\n",
       "    <tr>\n",
       "      <th id=\"T_cd0a5_level0_row0\" class=\"row_heading level0 row0\" >Mauro</th>\n",
       "      <td id=\"T_cd0a5_row0_col0\" class=\"data row0 col0 true\" >35<span class=\"pd-tt\"></span></td>\n",
       "      <td id=\"T_cd0a5_row0_col1\" class=\"data row0 col1 false\" >178<span class=\"pd-tt\"></span></td>\n",
       "      <td id=\"T_cd0a5_row0_col2\" class=\"data row0 col2 true\" >70<span class=\"pd-tt\"></span></td>\n",
       "    </tr>\n",
       "    <tr>\n",
       "      <th id=\"T_cd0a5_level0_row1\" class=\"row_heading level0 row1\" >Luca</th>\n",
       "      <td id=\"T_cd0a5_row1_col0\" class=\"data row1 col0 true\" >42<span class=\"pd-tt\"></span></td>\n",
       "      <td id=\"T_cd0a5_row1_col1\" class=\"data row1 col1 false\" >152<span class=\"pd-tt\"></span></td>\n",
       "      <td id=\"T_cd0a5_row1_col2\" class=\"data row1 col2 true\" >65<span class=\"pd-tt\"></span></td>\n",
       "    </tr>\n",
       "    <tr>\n",
       "      <th id=\"T_cd0a5_level0_row2\" class=\"row_heading level0 row2\" >Anna</th>\n",
       "      <td id=\"T_cd0a5_row2_col0\" class=\"data row2 col0 true\" >29<span class=\"pd-tt\"></span></td>\n",
       "      <td id=\"T_cd0a5_row2_col1\" class=\"data row2 col1 false\" >180<span class=\"pd-tt\"></span></td>\n",
       "      <td id=\"T_cd0a5_row2_col2\" class=\"data row2 col2 true\" >75<span class=\"pd-tt\"></span></td>\n",
       "    </tr>\n",
       "  </tbody>\n",
       "</table>\n"
      ],
      "text/plain": [
       "<pandas.io.formats.style.Styler at 0x7f05603211f0>"
      ]
     },
     "execution_count": 15,
     "metadata": {},
     "output_type": "execute_result"
    }
   ],
   "source": [
    "s = df.style\\\n",
    "      .format('{:.0f}')\\\n",
    "      .set_table_styles([{\n",
    "        'selector': '',\n",
    "        'props':  'border-collapse: separate;'\n",
    "      },{\n",
    "        'selector': 'caption',\n",
    "        'props': 'caption-side: bottom; font-size:1.3em; text-align: center'\n",
    "      },{\n",
    "        'selector': '.index_name',\n",
    "        'props': 'font-style: italic; color: darkgrey; font-weight:normal;'\n",
    "      },{\n",
    "        'selector': 'th:not(.index_name)',\n",
    "        'props': 'background-color: #c2f0c2; color: black;'\n",
    "      },{\n",
    "        'selector': 'th.col_heading',\n",
    "        'props': 'text-align: center;'\n",
    "      },{\n",
    "        'selector': 'th.col_heading.level0',\n",
    "        'props': 'font-size: 1.5em;'\n",
    "      },{\n",
    "        'selector': 'td',\n",
    "        'props': 'text-align: center; font-weight:bold;'\n",
    "      },{\n",
    "        'selector': '.true',\n",
    "        'props': 'background-color: #00000;'\n",
    "      },{\n",
    "        'selector': '.false',\n",
    "        'props': 'background-color: #ffffcc;'\n",
    "      },{\n",
    "        'selector': 'td:hover',\n",
    "        'props': 'background-color: #ffcc80;'\n",
    "      }])\\\n",
    "      .set_td_classes(pd.DataFrame([['true', 'false', 'true']], \n",
    "                                    index=df.index, columns=df.columns))\\\n",
    "      .set_caption(\"Raccolta dati persone\")\\\n",
    "      .set_tooltips(pd.DataFrame([['Tooltip1', 'Tooltip2', 'Tooltip3'],['1','2','3'],['4','5','6']], \n",
    "                                    index=df.index, columns=df.columns),\n",
    "                   css_class='pd-tt', props=\n",
    "    'visibility: hidden; position: absolute; z-index: 1; border: 1px solid #000066;'\n",
    "    'background-color: white; color: #000066; font-size: 0.8em;' \n",
    "    'transform: translate(0px, -24px); padding: 0.6em; border-radius: 0.5em;')\n",
    "\n",
    "s"
   ]
  },
  {
   "cell_type": "markdown",
   "id": "aae9162a",
   "metadata": {},
   "source": [
    "# Chart Visualization\n",
    "\n",
    "Una volta terminata l'analisi dei dati è molto semplice produrre dei grafici riepilogativi.\n",
    "\n",
    "https://pandas.pydata.org/pandas-docs/stable/user_guide/visualization.html"
   ]
  },
  {
   "cell_type": "code",
   "execution_count": 16,
   "id": "57ea65f9",
   "metadata": {},
   "outputs": [
    {
     "data": {
      "image/png": "[encoded data removed]",
      "text/plain": [
       "<Figure size 432x288 with 1 Axes>"
      ]
     },
     "metadata": {
      "needs_background": "light"
     },
     "output_type": "display_data"
    }
   ],
   "source": [
    "df = pd.DataFrame(np.random.randn(100, 5), columns=list('ABCDE'))\n",
    "df=df.cumsum() # Return cumulative sum over a DataFrame or Series axis\n",
    "df.plot()\n",
    "plt.show()"
   ]
  },
  {
   "cell_type": "code",
   "execution_count": 17,
   "id": "72be8347",
   "metadata": {},
   "outputs": [
    {
     "data": {
      "image/png": "[encoded data removed]",
      "text/plain": [
       "<Figure size 432x288 with 1 Axes>"
      ]
     },
     "metadata": {
      "needs_background": "light"
     },
     "output_type": "display_data"
    }
   ],
   "source": [
    "df = pd.DataFrame(np.random.rand(10, 5), columns=list('ABCDE'))\n",
    "df.plot.bar(stacked=True)\n",
    "plt.show()"
   ]
  },
  {
   "cell_type": "code",
   "execution_count": 18,
   "id": "e9af5196",
   "metadata": {},
   "outputs": [
    {
     "data": {
      "image/png": "[encoded data removed]",
      "text/plain": [
       "<Figure size 432x288 with 1 Axes>"
      ]
     },
     "metadata": {
      "needs_background": "light"
     },
     "output_type": "display_data"
    }
   ],
   "source": [
    "df = pd.DataFrame(np.random.rand(7, 5), columns=list('ABCDE'))\n",
    "df.plot.box()\n",
    "plt.show()"
   ]
  },
  {
   "cell_type": "code",
   "execution_count": 19,
   "id": "11fcdd5d",
   "metadata": {},
   "outputs": [
    {
     "data": {
      "image/png": "[encoded data removed]",
      "text/plain": [
       "<Figure size 432x288 with 1 Axes>"
      ]
     },
     "metadata": {
      "needs_background": "light"
     },
     "output_type": "display_data"
    }
   ],
   "source": [
    "data = pd.Series(np.random.normal(size=100))\n",
    "data.hist(grid=False)\n",
    "plt.show()"
   ]
  },
  {
   "cell_type": "markdown",
   "id": "97dbbcea",
   "metadata": {},
   "source": []
  },
  {
   "cell_type": "markdown",
   "id": "f705395d",
   "metadata": {},
   "source": []
  },
  {
   "cell_type": "code",
   "execution_count": null,
   "id": "3d364619",
   "metadata": {},
   "outputs": [],
   "source": []
  },
  {
   "cell_type": "code",
   "execution_count": null,
   "id": "5208cf92",
   "metadata": {},
   "outputs": [],
   "source": []
  },
  {
   "cell_type": "code",
   "execution_count": null,
   "id": "3c6dbe57",
   "metadata": {},
   "outputs": [],
   "source": []
  }
 ],
 "metadata": {
  "kernelspec": {
   "display_name": "Python 3 (ipykernel)",
   "language": "python",
   "name": "python3"
  },
  "language_info": {
   "codemirror_mode": {
    "name": "ipython",
    "version": 3
   },
   "file_extension": ".py",
   "mimetype": "text/x-python",
   "name": "python",
   "nbconvert_exporter": "python",
   "pygments_lexer": "ipython3",
   "version": "3.8.10"
  }
 },
 "nbformat": 4,
 "nbformat_minor": 5
}
