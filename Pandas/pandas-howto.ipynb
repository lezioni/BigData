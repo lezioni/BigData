{
 "cells": [
  {
   "cell_type": "markdown",
   "id": "a98d2d3d",
   "metadata": {},
   "source": [
    "# Pandas data frame\n",
    "\n",
    "Pandas è una libreria che ci permette di manipolare facilmente i dataframes"
   ]
  },
  {
   "cell_type": "code",
   "execution_count": null,
   "id": "1de0e1ab-c50b-4d43-bb64-5a4fef852371",
   "metadata": {},
   "outputs": [],
   "source": [
    "import pandas as pd\n",
    "import numpy as np\n",
    "import matplotlib.pyplot as plt\n",
    "\n",
    "%matplotlib inline"
   ]
  },
  {
   "cell_type": "markdown",
   "id": "4d9dc8c8",
   "metadata": {},
   "source": []
  },
  {
   "cell_type": "code",
   "execution_count": null,
   "id": "3214695e-986b-4004-bdf9-672aef0157b8",
   "metadata": {},
   "outputs": [],
   "source": [
    "df = pd.read_csv('/home/mauro/python/family.csv')\n",
    "print(df)"
   ]
  },
  {
   "cell_type": "markdown",
   "id": "410db5c6",
   "metadata": {},
   "source": [
    "## Estrazione dati da pagine web\n",
    "\n",
    "Una funzionalità molto interessante di Pandas è quella che ci permette di estrarre facilmente dati da pagine web con pochissime righe di codice.\n",
    "\n",
    "Su Wikipedia troviamo l'elenco dei comuni italiani con più di 50 000 abitanti aggiornati al 31 dicembre 2021\n",
    "\n",
    "N.B.\n",
    "Occorre avere installato lxml, html5lib, bs4"
   ]
  },
  {
   "cell_type": "code",
   "execution_count": null,
   "id": "a6640d83-f9e9-44cf-991e-d83bf541daa4",
   "metadata": {},
   "outputs": [],
   "source": [
    "url_popolazione = \"https://it.wikipedia.org/wiki/Comuni_d%27Italia_per_popolazione\"\n",
    "url_superficie = \"https://it.wikipedia.org/wiki/Primi_100_comuni_italiani_per_superficie\"\n",
    "\n",
    "popolazione = pd.read_html(url_popolazione, attrs={\"class\":\"wikitable\"},header=0)[0]\n",
    "popolazione.head(10)"
   ]
  },
  {
   "cell_type": "markdown",
   "id": "7b9417a3",
   "metadata": {},
   "source": [
    "Riordiniamo le città per regione e quindi per provincia"
   ]
  },
  {
   "cell_type": "code",
   "execution_count": null,
   "id": "7f7f1037",
   "metadata": {},
   "outputs": [],
   "source": [
    "popolazione = popolazione.sort_values(by=['Regione', 'Provincia / Città metropolitana'])\n",
    "popolazione.head(10)"
   ]
  },
  {
   "cell_type": "markdown",
   "id": "7a95d171",
   "metadata": {},
   "source": [
    "Sarebbe meglio riordinare le colonne mettendo al primo posto la regione e al secondo la provincia. La colonna N° non ci serve quindi la rimuoviamo.\n",
    "\n",
    "Rinominiamo poi la colonna 'Provincia / Città metropolitana' semplicemente in \"Provincia\""
   ]
  },
  {
   "cell_type": "code",
   "execution_count": null,
   "id": "85087cc9",
   "metadata": {},
   "outputs": [],
   "source": [
    "cols = ['Regione', 'Provincia / Città metropolitana', 'Comune', 'Abitanti']\n",
    "popolazione = popolazione[cols]\n",
    "\n",
    "popolazione.rename(columns = {'Provincia / Città metropolitana':'Provincia'}, inplace = True)\n",
    "popolazione.head(10)"
   ]
  },
  {
   "cell_type": "markdown",
   "id": "10220b8d",
   "metadata": {},
   "source": [
    "Vediamo come sono stati importati i dati"
   ]
  },
  {
   "cell_type": "markdown",
   "id": "2d7833ec",
   "metadata": {},
   "source": [
    "### Contare il numero di comuni per ciascuna regione"
   ]
  },
  {
   "cell_type": "code",
   "execution_count": null,
   "id": "9bb8866f",
   "metadata": {},
   "outputs": [],
   "source": [
    "popolazione.groupby(['Regione']).size().reset_index(name='Comuni')"
   ]
  },
  {
   "cell_type": "markdown",
   "id": "b0f0f4c4",
   "metadata": {},
   "source": [
    "### Contare il numero di comuni per ciascuna Regione e provincia ordinandoli per numero di comuni"
   ]
  },
  {
   "cell_type": "code",
   "execution_count": null,
   "id": "9ef0827c",
   "metadata": {},
   "outputs": [],
   "source": [
    "popolazione.groupby(['Regione','Provincia']) \\\n",
    "    .size() \\\n",
    "    .reset_index(name='N° comuni') \\\n",
    "    .sort_values(by=['N° comuni'],ascending=False) \\\n",
    "    .head(10)"
   ]
  },
  {
   "cell_type": "markdown",
   "id": "3bf29e69",
   "metadata": {},
   "source": [
    "### Contare gli abitanti di ciascuna regione\n",
    "\n",
    "Dobbiamo semplicemente applicare la funzione sum(), ma proviamo ad eseguire il prossimo frammento di codice"
   ]
  },
  {
   "cell_type": "code",
   "execution_count": null,
   "id": "11b3d31f",
   "metadata": {},
   "outputs": [],
   "source": [
    "\n",
    "popolazione.groupby(['Regione'])['Abitanti'].sum()"
   ]
  },
  {
   "cell_type": "markdown",
   "id": "814cff9b",
   "metadata": {},
   "source": [
    "Il risultato non è quello sperato. Vengono infatti concatenate tutte le stringhe che rappresentano gli abitanti di ciascuna regione. Perchè questo?\n",
    "\n",
    "Proviamo a vedere come è strutturato il nostro dataframe"
   ]
  },
  {
   "cell_type": "code",
   "execution_count": null,
   "id": "3dba412e",
   "metadata": {},
   "outputs": [],
   "source": [
    "popolazione.dtypes"
   ]
  },
  {
   "cell_type": "markdown",
   "id": "93f861d9",
   "metadata": {},
   "source": [
    "Il campo abitanti è di tipo object, quindi non possiamo usarlo per fare calcoli matematici. \n",
    "\n",
    "Bisogna convertire quell'oggetto in un numero intero.\n",
    "\n",
    "ATTENZIONE qua c'e' un problema non banale. Nella stringa che mostra il numero degli abitanti lo spazio non è un semplice spazio ma è il carattere `xa0` che è un \"non-breaking Latin1 (ISO 8859-1) space\". Questo carattere va eliminato prima di poter procedere con la conversione.\n",
    "\n",
    "Per approfondire: https://pbpython.com/pandas-html-table.html"
   ]
  },
  {
   "cell_type": "code",
   "execution_count": null,
   "id": "e7d38f4b",
   "metadata": {},
   "outputs": [],
   "source": [
    "from unicodedata import normalize\n",
    "\n",
    "def clean_normalize_whitespace(x):\n",
    "    if isinstance(x, str):\n",
    "        return normalize('NFKC', x).replace(' ','')\n",
    "    else:\n",
    "        return x\n",
    "\n",
    "popolazione['Abitanti'] = popolazione['Abitanti'].map(clean_normalize_whitespace)\n",
    "popolazione['Abitanti'] = pd.to_numeric(popolazione['Abitanti'])\n",
    "\n",
    "abitanti_regione = popolazione.groupby(['Regione'])['Abitanti'] \\\n",
    "    .sum() \\\n",
    "    .reset_index() \\\n",
    "    .sort_values(by = ['Abitanti'], ascending=[False]) \\\n",
    "\n",
    "abitanti_regione.head(12)"
   ]
  },
  {
   "cell_type": "markdown",
   "id": "df2935ba",
   "metadata": {},
   "source": [
    "In questo modo otteniamo il risultato voluto"
   ]
  },
  {
   "cell_type": "markdown",
   "id": "e3bfd668",
   "metadata": {},
   "source": [
    "# Grafici"
   ]
  },
  {
   "cell_type": "markdown",
   "id": "646732ad",
   "metadata": {},
   "source": [
    "Proviamo ora ad usare i dati appena calcolati per disegnare un grafico con il numero di abitanti per ciascuna regione\n",
    "\n",
    "Barchart fa una colonna per ciascun dato\n",
    "Istogram fa una colonna per ogni gruppo di dati (questi vanno prima raggruppati)\n",
    "https://problemsolvingwithpython.com/06-Plotting-with-Matplotlib/06.06-Bar-Charts-and-Pie-Charts/#bar-charts\n",
    "https://stackoverflow.com/questions/42421555/matplotlib-bar-chart-with-labels-space-out-the-bars"
   ]
  },
  {
   "cell_type": "code",
   "execution_count": null,
   "id": "49b66a5a",
   "metadata": {},
   "outputs": [],
   "source": [
    "ar = abitanti_regione.sort_values(by = ['Regione'], ascending=[False])\n",
    "\n",
    "fig, ax = plt.subplots(figsize=(30,30))\n",
    "\n",
    "labels = ar['Regione']\n",
    "x_pos = np.arange(len(labels))\n",
    "data = ar['Abitanti']\n",
    "\n",
    "ax.bar(x_pos, data, align='center', alpha=0.5)\n",
    "\n",
    "ax.set_ylabel('Abitanti', fontsize=50, rotation=90)\n",
    "\n",
    "ax.set_xticks(x_pos)\n",
    "ax.set_xticklabels(labels, fontsize=30, rotation=90)\n",
    "\n",
    "ax.set_title('Numero di abitanti per regione', fontsize=50)\n",
    "\n",
    "ax.yaxis.grid(True)\n",
    "\n",
    "# Save the figure and show\n",
    "plt.tight_layout()\n",
    "plt.savefig('bar_plot.png')\n",
    "plt.show()"
   ]
  },
  {
   "cell_type": "markdown",
   "id": "c71d21fa",
   "metadata": {},
   "source": [
    "# Esercizio\n",
    "\n",
    "Scaricare le tabelle delle città per ciascuna regione dalla pagina\n",
    "https://it.wikipedia.org/wiki/Titolo_di_citt%C3%A0_in_Italia\n",
    "\n"
   ]
  },
  {
   "cell_type": "code",
   "execution_count": null,
   "id": "4d497846",
   "metadata": {},
   "outputs": [],
   "source": [
    "url = 'https://it.wikipedia.org/wiki/Titolo_di_citt%C3%A0_in_Italia'\n",
    "tabelle = pd.read_html(url, attrs={\"class\":\"wikitable\"},header=0)\n",
    "\n"
   ]
  },
  {
   "cell_type": "code",
   "execution_count": null,
   "id": "aa76ef6a",
   "metadata": {},
   "outputs": [],
   "source": [
    "cs = pd.read_html(url_superficie, attrs={\"class\":\"wikitable\"},header=0)[0]\n",
    "cs.head()"
   ]
  }
 ],
 "metadata": {
  "kernelspec": {
   "display_name": "Python 3 (ipykernel)",
   "language": "python",
   "name": "python3"
  },
  "language_info": {
   "codemirror_mode": {
    "name": "ipython",
    "version": 3
   },
   "file_extension": ".py",
   "mimetype": "text/x-python",
   "name": "python",
   "nbconvert_exporter": "python",
   "pygments_lexer": "ipython3",
   "version": "3.8.10"
  }
 },
 "nbformat": 4,
 "nbformat_minor": 5
}
