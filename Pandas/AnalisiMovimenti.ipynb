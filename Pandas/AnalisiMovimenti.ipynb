{
 "cells": [
  {
   "cell_type": "code",
   "execution_count": 1,
   "id": "0b075d7e-74d4-46ee-b9c1-67f8a07495e7",
   "metadata": {},
   "outputs": [],
   "source": [
    "import pandas as pd\n",
    "import matplotlib.pyplot as plt\n",
    "import numpy as np"
   ]
  },
  {
   "cell_type": "code",
   "execution_count": 2,
   "id": "d2a89aeb-4e57-43c5-ae85-d0e013eb55ea",
   "metadata": {},
   "outputs": [
    {
     "name": "stdout",
     "output_type": "stream",
     "text": [
      "<class 'pandas.core.frame.DataFrame'>\n",
      "RangeIndex: 441689 entries, 0 to 441688\n",
      "Data columns (total 4 columns):\n",
      " #   Column   Non-Null Count   Dtype \n",
      "---  ------   --------------   ----- \n",
      " 0   cognome  441689 non-null  object\n",
      " 1   nome     441689 non-null  object\n",
      " 2   data     441689 non-null  object\n",
      " 3   importo  441689 non-null  int64 \n",
      "dtypes: int64(1), object(3)\n",
      "memory usage: 13.5+ MB\n"
     ]
    }
   ],
   "source": [
    "mov = pd.read_csv('../Sample_data/movimenti.csv', sep=';')\n",
    "mov.info()"
   ]
  },
  {
   "cell_type": "code",
   "execution_count": 3,
   "id": "a65d82db-d3a5-4da0-950e-549ccd98ad22",
   "metadata": {},
   "outputs": [
    {
     "data": {
      "text/html": [
       "<div>\n",
       "<style scoped>\n",
       "    .dataframe tbody tr th:only-of-type {\n",
       "        vertical-align: middle;\n",
       "    }\n",
       "\n",
       "    .dataframe tbody tr th {\n",
       "        vertical-align: top;\n",
       "    }\n",
       "\n",
       "    .dataframe thead th {\n",
       "        text-align: right;\n",
       "    }\n",
       "</style>\n",
       "<table border=\"1\" class=\"dataframe\">\n",
       "  <thead>\n",
       "    <tr style=\"text-align: right;\">\n",
       "      <th></th>\n",
       "      <th>cognome</th>\n",
       "      <th>nome</th>\n",
       "      <th>data</th>\n",
       "      <th>importo</th>\n",
       "    </tr>\n",
       "  </thead>\n",
       "  <tbody>\n",
       "    <tr>\n",
       "      <th>0</th>\n",
       "      <td>Angeli</td>\n",
       "      <td>Guido</td>\n",
       "      <td>2000/01/01 16:04:41</td>\n",
       "      <td>-962</td>\n",
       "    </tr>\n",
       "    <tr>\n",
       "      <th>1</th>\n",
       "      <td>Beruschi</td>\n",
       "      <td>Enrico</td>\n",
       "      <td>2000/01/01 21:18:57</td>\n",
       "      <td>-551</td>\n",
       "    </tr>\n",
       "    <tr>\n",
       "      <th>2</th>\n",
       "      <td>Pellegrini</td>\n",
       "      <td>Federica</td>\n",
       "      <td>2000/01/01 20:43:37</td>\n",
       "      <td>765</td>\n",
       "    </tr>\n",
       "  </tbody>\n",
       "</table>\n",
       "</div>"
      ],
      "text/plain": [
       "      cognome      nome                 data  importo\n",
       "0      Angeli     Guido  2000/01/01 16:04:41     -962\n",
       "1    Beruschi    Enrico  2000/01/01 21:18:57     -551\n",
       "2  Pellegrini  Federica  2000/01/01 20:43:37      765"
      ]
     },
     "execution_count": 3,
     "metadata": {},
     "output_type": "execute_result"
    }
   ],
   "source": [
    "mov.head(3)"
   ]
  },
  {
   "cell_type": "markdown",
   "id": "5a64eff4-b9aa-4a90-bf01-815d5cbe3338",
   "metadata": {},
   "source": [
    "## Chi sono le 3 persone con saldo maggiore?"
   ]
  },
  {
   "cell_type": "code",
   "execution_count": 4,
   "id": "44ed0fc9-b06d-4b48-8e58-7692f487d6de",
   "metadata": {},
   "outputs": [
    {
     "data": {
      "text/html": [
       "<div>\n",
       "<style scoped>\n",
       "    .dataframe tbody tr th:only-of-type {\n",
       "        vertical-align: middle;\n",
       "    }\n",
       "\n",
       "    .dataframe tbody tr th {\n",
       "        vertical-align: top;\n",
       "    }\n",
       "\n",
       "    .dataframe thead th {\n",
       "        text-align: right;\n",
       "    }\n",
       "</style>\n",
       "<table border=\"1\" class=\"dataframe\">\n",
       "  <thead>\n",
       "    <tr style=\"text-align: right;\">\n",
       "      <th></th>\n",
       "      <th></th>\n",
       "      <th>importo</th>\n",
       "    </tr>\n",
       "    <tr>\n",
       "      <th>cognome</th>\n",
       "      <th>nome</th>\n",
       "      <th></th>\n",
       "    </tr>\n",
       "  </thead>\n",
       "  <tbody>\n",
       "    <tr>\n",
       "      <th>Hunziker</th>\n",
       "      <th>Michelle</th>\n",
       "      <td>964038</td>\n",
       "    </tr>\n",
       "    <tr>\n",
       "      <th>Cracco</th>\n",
       "      <th>Carlo</th>\n",
       "      <td>596540</td>\n",
       "    </tr>\n",
       "    <tr>\n",
       "      <th>Mauro</th>\n",
       "      <th>Massimo</th>\n",
       "      <td>543466</td>\n",
       "    </tr>\n",
       "  </tbody>\n",
       "</table>\n",
       "</div>"
      ],
      "text/plain": [
       "                   importo\n",
       "cognome  nome             \n",
       "Hunziker Michelle   964038\n",
       "Cracco   Carlo      596540\n",
       "Mauro    Massimo    543466"
      ]
     },
     "execution_count": 4,
     "metadata": {},
     "output_type": "execute_result"
    }
   ],
   "source": [
    "mov.groupby(['cognome','nome']).sum('importo').sort_values('importo', ascending=False).head(3)"
   ]
  },
  {
   "cell_type": "markdown",
   "id": "078ea2ef-e478-46a1-a003-8b5e0f0af69d",
   "metadata": {},
   "source": [
    "# Chi sono le 3 persone con saldo minore?"
   ]
  },
  {
   "cell_type": "code",
   "execution_count": 18,
   "id": "ed769fe1-8c40-4c18-b96d-0596ed10f50f",
   "metadata": {},
   "outputs": [
    {
     "data": {
      "text/html": [
       "<div>\n",
       "<style scoped>\n",
       "    .dataframe tbody tr th:only-of-type {\n",
       "        vertical-align: middle;\n",
       "    }\n",
       "\n",
       "    .dataframe tbody tr th {\n",
       "        vertical-align: top;\n",
       "    }\n",
       "\n",
       "    .dataframe thead th {\n",
       "        text-align: right;\n",
       "    }\n",
       "</style>\n",
       "<table border=\"1\" class=\"dataframe\">\n",
       "  <thead>\n",
       "    <tr style=\"text-align: right;\">\n",
       "      <th></th>\n",
       "      <th></th>\n",
       "      <th>importo</th>\n",
       "    </tr>\n",
       "    <tr>\n",
       "      <th>cognome</th>\n",
       "      <th>nome</th>\n",
       "      <th></th>\n",
       "    </tr>\n",
       "  </thead>\n",
       "  <tbody>\n",
       "    <tr>\n",
       "      <th>Frassica</th>\n",
       "      <th>Nino</th>\n",
       "      <td>-1510579</td>\n",
       "    </tr>\n",
       "    <tr>\n",
       "      <th>Forest</th>\n",
       "      <th>Mago</th>\n",
       "      <td>-1461235</td>\n",
       "    </tr>\n",
       "    <tr>\n",
       "      <th>Pappagone</th>\n",
       "      <th>Gaetano</th>\n",
       "      <td>-1020620</td>\n",
       "    </tr>\n",
       "  </tbody>\n",
       "</table>\n",
       "</div>"
      ],
      "text/plain": [
       "                   importo\n",
       "cognome   nome            \n",
       "Frassica  Nino    -1510579\n",
       "Forest    Mago    -1461235\n",
       "Pappagone Gaetano -1020620"
      ]
     },
     "execution_count": 18,
     "metadata": {},
     "output_type": "execute_result"
    }
   ],
   "source": [
    "mov.groupby(['cognome','nome']).sum('importo').sort_values('importo').head(3)"
   ]
  },
  {
   "cell_type": "markdown",
   "id": "501833cc-2dd7-4276-8031-f17aeda80a9b",
   "metadata": {},
   "source": [
    "# Calcolare importo totale movimentato per ciascun anno"
   ]
  },
  {
   "cell_type": "code",
   "execution_count": 5,
   "id": "023c9e79-32f6-434c-8e45-3205018a9b08",
   "metadata": {},
   "outputs": [
    {
     "name": "stdout",
     "output_type": "stream",
     "text": [
      "<class 'pandas.core.frame.DataFrame'>\n",
      "RangeIndex: 441689 entries, 0 to 441688\n",
      "Data columns (total 4 columns):\n",
      " #   Column   Non-Null Count   Dtype         \n",
      "---  ------   --------------   -----         \n",
      " 0   cognome  441689 non-null  object        \n",
      " 1   nome     441689 non-null  object        \n",
      " 2   data     441689 non-null  datetime64[ns]\n",
      " 3   importo  441689 non-null  int64         \n",
      "dtypes: datetime64[ns](1), int64(1), object(2)\n",
      "memory usage: 13.5+ MB\n"
     ]
    }
   ],
   "source": [
    "mov['data'] = pd.to_datetime(mov['data'])\n",
    "mov.info()"
   ]
  },
  {
   "cell_type": "code",
   "execution_count": 6,
   "id": "6721d0be-e9c3-4d4b-8840-40b22f28d980",
   "metadata": {},
   "outputs": [
    {
     "data": {
      "text/plain": [
       "0         2000\n",
       "1         2000\n",
       "2         2000\n",
       "3         2000\n",
       "4         2000\n",
       "          ... \n",
       "441684    2022\n",
       "441685    2022\n",
       "441686    2022\n",
       "441687    2022\n",
       "441688    2022\n",
       "Name: data, Length: 441689, dtype: int32"
      ]
     },
     "execution_count": 6,
     "metadata": {},
     "output_type": "execute_result"
    }
   ],
   "source": [
    "anni = pd.to_datetime(mov['data']).dt.year\n",
    "anni"
   ]
  },
  {
   "cell_type": "code",
   "execution_count": 8,
   "id": "1ec64134-5cd4-45cb-8740-1acb245fc860",
   "metadata": {},
   "outputs": [
    {
     "data": {
      "text/html": [
       "<div>\n",
       "<style scoped>\n",
       "    .dataframe tbody tr th:only-of-type {\n",
       "        vertical-align: middle;\n",
       "    }\n",
       "\n",
       "    .dataframe tbody tr th {\n",
       "        vertical-align: top;\n",
       "    }\n",
       "\n",
       "    .dataframe thead th {\n",
       "        text-align: right;\n",
       "    }\n",
       "</style>\n",
       "<table border=\"1\" class=\"dataframe\">\n",
       "  <thead>\n",
       "    <tr style=\"text-align: right;\">\n",
       "      <th></th>\n",
       "      <th>Anno</th>\n",
       "      <th>Importo</th>\n",
       "    </tr>\n",
       "  </thead>\n",
       "  <tbody>\n",
       "    <tr>\n",
       "      <th>0</th>\n",
       "      <td>2000</td>\n",
       "      <td>-962</td>\n",
       "    </tr>\n",
       "    <tr>\n",
       "      <th>1</th>\n",
       "      <td>2000</td>\n",
       "      <td>-551</td>\n",
       "    </tr>\n",
       "    <tr>\n",
       "      <th>2</th>\n",
       "      <td>2000</td>\n",
       "      <td>765</td>\n",
       "    </tr>\n",
       "    <tr>\n",
       "      <th>3</th>\n",
       "      <td>2000</td>\n",
       "      <td>-804</td>\n",
       "    </tr>\n",
       "    <tr>\n",
       "      <th>4</th>\n",
       "      <td>2000</td>\n",
       "      <td>-428</td>\n",
       "    </tr>\n",
       "  </tbody>\n",
       "</table>\n",
       "</div>"
      ],
      "text/plain": [
       "   Anno  Importo\n",
       "0  2000     -962\n",
       "1  2000     -551\n",
       "2  2000      765\n",
       "3  2000     -804\n",
       "4  2000     -428"
      ]
     },
     "execution_count": 8,
     "metadata": {},
     "output_type": "execute_result"
    }
   ],
   "source": [
    "mov_anni = pd.DataFrame({'Anno':anni, 'Importo':mov['importo']})\n",
    "mov_anni.head()"
   ]
  },
  {
   "cell_type": "code",
   "execution_count": 9,
   "id": "43e3f0e5-262a-4ec1-acde-4c690ed92da9",
   "metadata": {},
   "outputs": [
    {
     "data": {
      "text/html": [
       "<div>\n",
       "<style scoped>\n",
       "    .dataframe tbody tr th:only-of-type {\n",
       "        vertical-align: middle;\n",
       "    }\n",
       "\n",
       "    .dataframe tbody tr th {\n",
       "        vertical-align: top;\n",
       "    }\n",
       "\n",
       "    .dataframe thead th {\n",
       "        text-align: right;\n",
       "    }\n",
       "</style>\n",
       "<table border=\"1\" class=\"dataframe\">\n",
       "  <thead>\n",
       "    <tr style=\"text-align: right;\">\n",
       "      <th></th>\n",
       "      <th>Importo</th>\n",
       "    </tr>\n",
       "    <tr>\n",
       "      <th>Anno</th>\n",
       "      <th></th>\n",
       "    </tr>\n",
       "  </thead>\n",
       "  <tbody>\n",
       "    <tr>\n",
       "      <th>2000</th>\n",
       "      <td>-566590</td>\n",
       "    </tr>\n",
       "    <tr>\n",
       "      <th>2001</th>\n",
       "      <td>-777694</td>\n",
       "    </tr>\n",
       "    <tr>\n",
       "      <th>2002</th>\n",
       "      <td>-2309291</td>\n",
       "    </tr>\n",
       "    <tr>\n",
       "      <th>2003</th>\n",
       "      <td>-3797983</td>\n",
       "    </tr>\n",
       "    <tr>\n",
       "      <th>2004</th>\n",
       "      <td>-369603</td>\n",
       "    </tr>\n",
       "    <tr>\n",
       "      <th>2005</th>\n",
       "      <td>-700867</td>\n",
       "    </tr>\n",
       "    <tr>\n",
       "      <th>2006</th>\n",
       "      <td>-747417</td>\n",
       "    </tr>\n",
       "    <tr>\n",
       "      <th>2007</th>\n",
       "      <td>-1770298</td>\n",
       "    </tr>\n",
       "    <tr>\n",
       "      <th>2008</th>\n",
       "      <td>-1016101</td>\n",
       "    </tr>\n",
       "    <tr>\n",
       "      <th>2009</th>\n",
       "      <td>-1076864</td>\n",
       "    </tr>\n",
       "    <tr>\n",
       "      <th>2010</th>\n",
       "      <td>-1411229</td>\n",
       "    </tr>\n",
       "    <tr>\n",
       "      <th>2011</th>\n",
       "      <td>-1485210</td>\n",
       "    </tr>\n",
       "    <tr>\n",
       "      <th>2012</th>\n",
       "      <td>-495176</td>\n",
       "    </tr>\n",
       "    <tr>\n",
       "      <th>2013</th>\n",
       "      <td>383456</td>\n",
       "    </tr>\n",
       "    <tr>\n",
       "      <th>2014</th>\n",
       "      <td>-1135507</td>\n",
       "    </tr>\n",
       "    <tr>\n",
       "      <th>2015</th>\n",
       "      <td>-313765</td>\n",
       "    </tr>\n",
       "    <tr>\n",
       "      <th>2016</th>\n",
       "      <td>368199</td>\n",
       "    </tr>\n",
       "    <tr>\n",
       "      <th>2017</th>\n",
       "      <td>-1336761</td>\n",
       "    </tr>\n",
       "    <tr>\n",
       "      <th>2018</th>\n",
       "      <td>-3037119</td>\n",
       "    </tr>\n",
       "    <tr>\n",
       "      <th>2019</th>\n",
       "      <td>-1153415</td>\n",
       "    </tr>\n",
       "    <tr>\n",
       "      <th>2020</th>\n",
       "      <td>-1140018</td>\n",
       "    </tr>\n",
       "    <tr>\n",
       "      <th>2021</th>\n",
       "      <td>215311</td>\n",
       "    </tr>\n",
       "    <tr>\n",
       "      <th>2022</th>\n",
       "      <td>-152154</td>\n",
       "    </tr>\n",
       "  </tbody>\n",
       "</table>\n",
       "</div>"
      ],
      "text/plain": [
       "      Importo\n",
       "Anno         \n",
       "2000  -566590\n",
       "2001  -777694\n",
       "2002 -2309291\n",
       "2003 -3797983\n",
       "2004  -369603\n",
       "2005  -700867\n",
       "2006  -747417\n",
       "2007 -1770298\n",
       "2008 -1016101\n",
       "2009 -1076864\n",
       "2010 -1411229\n",
       "2011 -1485210\n",
       "2012  -495176\n",
       "2013   383456\n",
       "2014 -1135507\n",
       "2015  -313765\n",
       "2016   368199\n",
       "2017 -1336761\n",
       "2018 -3037119\n",
       "2019 -1153415\n",
       "2020 -1140018\n",
       "2021   215311\n",
       "2022  -152154"
      ]
     },
     "execution_count": 9,
     "metadata": {},
     "output_type": "execute_result"
    }
   ],
   "source": [
    "mov_anni.groupby(['Anno']).sum('Importo').sort_values('Anno')"
   ]
  },
  {
   "cell_type": "markdown",
   "id": "fdba0b69-9e0b-4c47-8ad1-d922aa2877dd",
   "metadata": {},
   "source": [
    "# Operazioni al di sopra dei 50k €"
   ]
  },
  {
   "cell_type": "code",
   "execution_count": 10,
   "id": "33116d05-b16f-4bfb-9b5b-9f884738d32a",
   "metadata": {},
   "outputs": [
    {
     "data": {
      "text/plain": [
       "0         False\n",
       "1         False\n",
       "2         False\n",
       "3         False\n",
       "4         False\n",
       "          ...  \n",
       "441684    False\n",
       "441685    False\n",
       "441686    False\n",
       "441687    False\n",
       "441688    False\n",
       "Name: importo, Length: 441689, dtype: bool"
      ]
     },
     "execution_count": 10,
     "metadata": {},
     "output_type": "execute_result"
    }
   ],
   "source": [
    "mov['importo']>50000"
   ]
  },
  {
   "cell_type": "code",
   "execution_count": 11,
   "id": "84e9b432-8b27-4668-a6b2-b5890dae2025",
   "metadata": {},
   "outputs": [
    {
     "data": {
      "text/html": [
       "<div>\n",
       "<style scoped>\n",
       "    .dataframe tbody tr th:only-of-type {\n",
       "        vertical-align: middle;\n",
       "    }\n",
       "\n",
       "    .dataframe tbody tr th {\n",
       "        vertical-align: top;\n",
       "    }\n",
       "\n",
       "    .dataframe thead th {\n",
       "        text-align: right;\n",
       "    }\n",
       "</style>\n",
       "<table border=\"1\" class=\"dataframe\">\n",
       "  <thead>\n",
       "    <tr style=\"text-align: right;\">\n",
       "      <th></th>\n",
       "      <th>cognome</th>\n",
       "      <th>nome</th>\n",
       "      <th>data</th>\n",
       "      <th>importo</th>\n",
       "    </tr>\n",
       "  </thead>\n",
       "  <tbody>\n",
       "    <tr>\n",
       "      <th>2087</th>\n",
       "      <td>Cracco</td>\n",
       "      <td>Carlo</td>\n",
       "      <td>2000-02-04 17:05:58</td>\n",
       "      <td>92937</td>\n",
       "    </tr>\n",
       "    <tr>\n",
       "      <th>3135</th>\n",
       "      <td>Hunziker</td>\n",
       "      <td>Michelle</td>\n",
       "      <td>2000-02-26 01:06:28</td>\n",
       "      <td>452022</td>\n",
       "    </tr>\n",
       "    <tr>\n",
       "      <th>3529</th>\n",
       "      <td>Hunziker</td>\n",
       "      <td>Michelle</td>\n",
       "      <td>2000-03-04 00:27:51</td>\n",
       "      <td>55290</td>\n",
       "    </tr>\n",
       "    <tr>\n",
       "      <th>8893</th>\n",
       "      <td>Hunziker</td>\n",
       "      <td>Michelle</td>\n",
       "      <td>2000-06-11 01:57:46</td>\n",
       "      <td>53240</td>\n",
       "    </tr>\n",
       "    <tr>\n",
       "      <th>38918</th>\n",
       "      <td>Hunziker</td>\n",
       "      <td>Michelle</td>\n",
       "      <td>2001-12-27 04:16:00</td>\n",
       "      <td>55231</td>\n",
       "    </tr>\n",
       "    <tr>\n",
       "      <th>39160</th>\n",
       "      <td>Hunziker</td>\n",
       "      <td>Michelle</td>\n",
       "      <td>2001-12-31 01:07:49</td>\n",
       "      <td>69879</td>\n",
       "    </tr>\n",
       "  </tbody>\n",
       "</table>\n",
       "</div>"
      ],
      "text/plain": [
       "        cognome      nome                data  importo\n",
       "2087     Cracco     Carlo 2000-02-04 17:05:58    92937\n",
       "3135   Hunziker  Michelle 2000-02-26 01:06:28   452022\n",
       "3529   Hunziker  Michelle 2000-03-04 00:27:51    55290\n",
       "8893   Hunziker  Michelle 2000-06-11 01:57:46    53240\n",
       "38918  Hunziker  Michelle 2001-12-27 04:16:00    55231\n",
       "39160  Hunziker  Michelle 2001-12-31 01:07:49    69879"
      ]
     },
     "execution_count": 11,
     "metadata": {},
     "output_type": "execute_result"
    }
   ],
   "source": [
    "mov[mov['importo']>50000]"
   ]
  },
  {
   "cell_type": "markdown",
   "id": "0b950b1a-e9eb-4bd9-b230-498c0b31d8f4",
   "metadata": {},
   "source": [
    "# Segnalare operazioni sospette"
   ]
  },
  {
   "cell_type": "code",
   "execution_count": 12,
   "id": "0efe019a-4563-4191-a044-18ffcc3591b9",
   "metadata": {},
   "outputs": [
    {
     "data": {
      "text/html": [
       "<div>\n",
       "<style scoped>\n",
       "    .dataframe tbody tr th:only-of-type {\n",
       "        vertical-align: middle;\n",
       "    }\n",
       "\n",
       "    .dataframe tbody tr th {\n",
       "        vertical-align: top;\n",
       "    }\n",
       "\n",
       "    .dataframe thead th {\n",
       "        text-align: right;\n",
       "    }\n",
       "</style>\n",
       "<table border=\"1\" class=\"dataframe\">\n",
       "  <thead>\n",
       "    <tr style=\"text-align: right;\">\n",
       "      <th></th>\n",
       "      <th></th>\n",
       "      <th>importo</th>\n",
       "    </tr>\n",
       "    <tr>\n",
       "      <th>cognome</th>\n",
       "      <th>nome</th>\n",
       "      <th></th>\n",
       "    </tr>\n",
       "  </thead>\n",
       "  <tbody>\n",
       "    <tr>\n",
       "      <th>Hunziker</th>\n",
       "      <th>Michelle</th>\n",
       "      <td>964038</td>\n",
       "    </tr>\n",
       "  </tbody>\n",
       "</table>\n",
       "</div>"
      ],
      "text/plain": [
       "                   importo\n",
       "cognome  nome             \n",
       "Hunziker Michelle   964038"
      ]
     },
     "execution_count": 12,
     "metadata": {},
     "output_type": "execute_result"
    }
   ],
   "source": [
    "persona_con_saldo_maggiore = mov.groupby(['cognome','nome']).sum('importo').sort_values('importo', ascending=False).head(1)\n",
    "persona_con_saldo_maggiore"
   ]
  },
  {
   "cell_type": "markdown",
   "id": "78d9fc88-66a9-429f-b4f4-93c8f98d01c9",
   "metadata": {},
   "source": [
    "Estraggo solo i movimenti di Michelle Hunziker"
   ]
  },
  {
   "cell_type": "code",
   "execution_count": 20,
   "id": "327c1b49-3c15-4700-8249-f0a6946771cd",
   "metadata": {},
   "outputs": [
    {
     "data": {
      "text/html": [
       "<div>\n",
       "<style scoped>\n",
       "    .dataframe tbody tr th:only-of-type {\n",
       "        vertical-align: middle;\n",
       "    }\n",
       "\n",
       "    .dataframe tbody tr th {\n",
       "        vertical-align: top;\n",
       "    }\n",
       "\n",
       "    .dataframe thead th {\n",
       "        text-align: right;\n",
       "    }\n",
       "</style>\n",
       "<table border=\"1\" class=\"dataframe\">\n",
       "  <thead>\n",
       "    <tr style=\"text-align: right;\">\n",
       "      <th></th>\n",
       "      <th>cognome</th>\n",
       "      <th>nome</th>\n",
       "      <th>data</th>\n",
       "      <th>importo</th>\n",
       "    </tr>\n",
       "  </thead>\n",
       "  <tbody>\n",
       "    <tr>\n",
       "      <th>188</th>\n",
       "      <td>Hunziker</td>\n",
       "      <td>Michelle</td>\n",
       "      <td>2000-01-04 19:22:31</td>\n",
       "      <td>-879</td>\n",
       "    </tr>\n",
       "    <tr>\n",
       "      <th>414</th>\n",
       "      <td>Hunziker</td>\n",
       "      <td>Michelle</td>\n",
       "      <td>2000-01-06 22:33:29</td>\n",
       "      <td>-917</td>\n",
       "    </tr>\n",
       "    <tr>\n",
       "      <th>496</th>\n",
       "      <td>Hunziker</td>\n",
       "      <td>Michelle</td>\n",
       "      <td>2000-01-08 22:17:12</td>\n",
       "      <td>-568</td>\n",
       "    </tr>\n",
       "    <tr>\n",
       "      <th>532</th>\n",
       "      <td>Hunziker</td>\n",
       "      <td>Michelle</td>\n",
       "      <td>2000-01-10 02:06:43</td>\n",
       "      <td>-3345</td>\n",
       "    </tr>\n",
       "    <tr>\n",
       "      <th>619</th>\n",
       "      <td>Hunziker</td>\n",
       "      <td>Michelle</td>\n",
       "      <td>2000-01-10 21:28:10</td>\n",
       "      <td>351</td>\n",
       "    </tr>\n",
       "    <tr>\n",
       "      <th>...</th>\n",
       "      <td>...</td>\n",
       "      <td>...</td>\n",
       "      <td>...</td>\n",
       "      <td>...</td>\n",
       "    </tr>\n",
       "    <tr>\n",
       "      <th>441353</th>\n",
       "      <td>Hunziker</td>\n",
       "      <td>Michelle</td>\n",
       "      <td>2022-03-08 15:26:29</td>\n",
       "      <td>-922</td>\n",
       "    </tr>\n",
       "    <tr>\n",
       "      <th>441374</th>\n",
       "      <td>Hunziker</td>\n",
       "      <td>Michelle</td>\n",
       "      <td>2022-03-10 05:46:10</td>\n",
       "      <td>172</td>\n",
       "    </tr>\n",
       "    <tr>\n",
       "      <th>441416</th>\n",
       "      <td>Hunziker</td>\n",
       "      <td>Michelle</td>\n",
       "      <td>2022-03-09 16:15:40</td>\n",
       "      <td>326</td>\n",
       "    </tr>\n",
       "    <tr>\n",
       "      <th>441481</th>\n",
       "      <td>Hunziker</td>\n",
       "      <td>Michelle</td>\n",
       "      <td>2022-03-10 17:30:40</td>\n",
       "      <td>-556</td>\n",
       "    </tr>\n",
       "    <tr>\n",
       "      <th>441528</th>\n",
       "      <td>Hunziker</td>\n",
       "      <td>Michelle</td>\n",
       "      <td>2022-03-10 17:51:04</td>\n",
       "      <td>385</td>\n",
       "    </tr>\n",
       "  </tbody>\n",
       "</table>\n",
       "<p>4082 rows × 4 columns</p>\n",
       "</div>"
      ],
      "text/plain": [
       "         cognome      nome                data  importo\n",
       "188     Hunziker  Michelle 2000-01-04 19:22:31     -879\n",
       "414     Hunziker  Michelle 2000-01-06 22:33:29     -917\n",
       "496     Hunziker  Michelle 2000-01-08 22:17:12     -568\n",
       "532     Hunziker  Michelle 2000-01-10 02:06:43    -3345\n",
       "619     Hunziker  Michelle 2000-01-10 21:28:10      351\n",
       "...          ...       ...                 ...      ...\n",
       "441353  Hunziker  Michelle 2022-03-08 15:26:29     -922\n",
       "441374  Hunziker  Michelle 2022-03-10 05:46:10      172\n",
       "441416  Hunziker  Michelle 2022-03-09 16:15:40      326\n",
       "441481  Hunziker  Michelle 2022-03-10 17:30:40     -556\n",
       "441528  Hunziker  Michelle 2022-03-10 17:51:04      385\n",
       "\n",
       "[4082 rows x 4 columns]"
      ]
     },
     "execution_count": 20,
     "metadata": {},
     "output_type": "execute_result"
    }
   ],
   "source": [
    "movimenti_michelle = mov[mov['cognome']=='Hunziker']\n",
    "movimenti_michelle"
   ]
  },
  {
   "cell_type": "markdown",
   "id": "94050952-87d6-4fb4-8321-4d9d6a9c53d3",
   "metadata": {},
   "source": [
    "Ne calcolo la media"
   ]
  },
  {
   "cell_type": "code",
   "execution_count": 25,
   "id": "de95e808-597d-4665-bc3f-2ae400e09d49",
   "metadata": {},
   "outputs": [
    {
     "data": {
      "text/plain": [
       "236.16805487506124"
      ]
     },
     "execution_count": 25,
     "metadata": {},
     "output_type": "execute_result"
    }
   ],
   "source": [
    "avg_michelle = movimenti_michelle['importo'].mean()\n",
    "avg_michelle"
   ]
  },
  {
   "cell_type": "markdown",
   "id": "8fe5034a-a7c8-44f5-9410-4cdaac4ad60d",
   "metadata": {},
   "source": [
    "Movimenti oltre 10 volte importo medio"
   ]
  },
  {
   "cell_type": "code",
   "execution_count": 29,
   "id": "38403702-421d-4af7-b050-397784069191",
   "metadata": {},
   "outputs": [
    {
     "data": {
      "text/html": [
       "<div>\n",
       "<style scoped>\n",
       "    .dataframe tbody tr th:only-of-type {\n",
       "        vertical-align: middle;\n",
       "    }\n",
       "\n",
       "    .dataframe tbody tr th {\n",
       "        vertical-align: top;\n",
       "    }\n",
       "\n",
       "    .dataframe thead th {\n",
       "        text-align: right;\n",
       "    }\n",
       "</style>\n",
       "<table border=\"1\" class=\"dataframe\">\n",
       "  <thead>\n",
       "    <tr style=\"text-align: right;\">\n",
       "      <th></th>\n",
       "      <th>cognome</th>\n",
       "      <th>nome</th>\n",
       "      <th>data</th>\n",
       "      <th>importo</th>\n",
       "    </tr>\n",
       "  </thead>\n",
       "  <tbody>\n",
       "    <tr>\n",
       "      <th>2334</th>\n",
       "      <td>Hunziker</td>\n",
       "      <td>Michelle</td>\n",
       "      <td>2000-02-09 18:54:57</td>\n",
       "      <td>36693</td>\n",
       "    </tr>\n",
       "    <tr>\n",
       "      <th>3135</th>\n",
       "      <td>Hunziker</td>\n",
       "      <td>Michelle</td>\n",
       "      <td>2000-02-26 01:06:28</td>\n",
       "      <td>452022</td>\n",
       "    </tr>\n",
       "    <tr>\n",
       "      <th>3409</th>\n",
       "      <td>Hunziker</td>\n",
       "      <td>Michelle</td>\n",
       "      <td>2000-03-01 01:32:03</td>\n",
       "      <td>18720</td>\n",
       "    </tr>\n",
       "    <tr>\n",
       "      <th>3529</th>\n",
       "      <td>Hunziker</td>\n",
       "      <td>Michelle</td>\n",
       "      <td>2000-03-04 00:27:51</td>\n",
       "      <td>55290</td>\n",
       "    </tr>\n",
       "    <tr>\n",
       "      <th>3999</th>\n",
       "      <td>Hunziker</td>\n",
       "      <td>Michelle</td>\n",
       "      <td>2000-03-12 05:38:41</td>\n",
       "      <td>6287</td>\n",
       "    </tr>\n",
       "    <tr>\n",
       "      <th>...</th>\n",
       "      <td>...</td>\n",
       "      <td>...</td>\n",
       "      <td>...</td>\n",
       "      <td>...</td>\n",
       "    </tr>\n",
       "    <tr>\n",
       "      <th>435705</th>\n",
       "      <td>Hunziker</td>\n",
       "      <td>Michelle</td>\n",
       "      <td>2021-11-28 01:09:23</td>\n",
       "      <td>9359</td>\n",
       "    </tr>\n",
       "    <tr>\n",
       "      <th>436293</th>\n",
       "      <td>Hunziker</td>\n",
       "      <td>Michelle</td>\n",
       "      <td>2021-12-07 03:33:41</td>\n",
       "      <td>2575</td>\n",
       "    </tr>\n",
       "    <tr>\n",
       "      <th>436657</th>\n",
       "      <td>Hunziker</td>\n",
       "      <td>Michelle</td>\n",
       "      <td>2021-12-13 19:36:51</td>\n",
       "      <td>3906</td>\n",
       "    </tr>\n",
       "    <tr>\n",
       "      <th>437453</th>\n",
       "      <td>Hunziker</td>\n",
       "      <td>Michelle</td>\n",
       "      <td>2021-12-30 05:53:35</td>\n",
       "      <td>8945</td>\n",
       "    </tr>\n",
       "    <tr>\n",
       "      <th>437938</th>\n",
       "      <td>Hunziker</td>\n",
       "      <td>Michelle</td>\n",
       "      <td>2022-01-08 01:48:08</td>\n",
       "      <td>2967</td>\n",
       "    </tr>\n",
       "  </tbody>\n",
       "</table>\n",
       "<p>563 rows × 4 columns</p>\n",
       "</div>"
      ],
      "text/plain": [
       "         cognome      nome                data  importo\n",
       "2334    Hunziker  Michelle 2000-02-09 18:54:57    36693\n",
       "3135    Hunziker  Michelle 2000-02-26 01:06:28   452022\n",
       "3409    Hunziker  Michelle 2000-03-01 01:32:03    18720\n",
       "3529    Hunziker  Michelle 2000-03-04 00:27:51    55290\n",
       "3999    Hunziker  Michelle 2000-03-12 05:38:41     6287\n",
       "...          ...       ...                 ...      ...\n",
       "435705  Hunziker  Michelle 2021-11-28 01:09:23     9359\n",
       "436293  Hunziker  Michelle 2021-12-07 03:33:41     2575\n",
       "436657  Hunziker  Michelle 2021-12-13 19:36:51     3906\n",
       "437453  Hunziker  Michelle 2021-12-30 05:53:35     8945\n",
       "437938  Hunziker  Michelle 2022-01-08 01:48:08     2967\n",
       "\n",
       "[563 rows x 4 columns]"
      ]
     },
     "execution_count": 29,
     "metadata": {},
     "output_type": "execute_result"
    }
   ],
   "source": [
    "movimenti_michelle[movimenti_michelle['importo']>(avg_michelle*10)]"
   ]
  },
  {
   "cell_type": "code",
   "execution_count": 30,
   "id": "25e1f40e-ce18-4678-b88b-f5fc760c4ff1",
   "metadata": {},
   "outputs": [],
   "source": [
    "# movimenti_michelle.to_csv('movi_mic.csv')"
   ]
  }
 ],
 "metadata": {
  "kernelspec": {
   "display_name": "Python 3 (ipykernel)",
   "language": "python",
   "name": "python3"
  },
  "language_info": {
   "codemirror_mode": {
    "name": "ipython",
    "version": 3
   },
   "file_extension": ".py",
   "mimetype": "text/x-python",
   "name": "python",
   "nbconvert_exporter": "python",
   "pygments_lexer": "ipython3",
   "version": "3.8.10"
  }
 },
 "nbformat": 4,
 "nbformat_minor": 5
}
